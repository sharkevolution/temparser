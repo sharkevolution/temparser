{
 "cells": [
  {
   "cell_type": "markdown",
   "id": "e49883f1",
   "metadata": {},
   "source": [
    "# Загрузка данных из группы Telegram"
   ]
  },
  {
   "cell_type": "markdown",
   "id": "52962423",
   "metadata": {},
   "source": [
    "Cмотрите шаг за шагом ниже, для получения **api_id и api_hash**\n",
    "\n",
    "1. Подпишитесь на Telegram с помощью любого приложения.\n",
    "2. Войдите в свой Telegram core:  *https://my.telegram.org*\n",
    "3. Перейдите в раздел \"инструменты разработки API\" и заполните форму.\n",
    "4. Вы получите основные адреса, а также параметры api_id и api_hash, необходимые для авторизации пользователя.\n",
    "\n",
    "На данный момент к каждому номеру может быть подключен только один api_id."
   ]
  },
  {
   "cell_type": "markdown",
   "id": "c262b83c",
   "metadata": {},
   "source": [
    "### Ограничение по количеству строк выгрузки"
   ]
  },
  {
   "cell_type": "code",
   "execution_count": 1,
   "id": "da5937cf",
   "metadata": {
    "scrolled": true
   },
   "outputs": [
    {
     "data": {
      "application/vnd.jupyter.widget-view+json": {
       "model_id": "61b9a74c5993415791f597b09694240f",
       "version_major": 2,
       "version_minor": 0
      },
      "text/plain": [
       "IntSlider(value=1000, max=1500, min=1)"
      ]
     },
     "metadata": {},
     "output_type": "display_data"
    },
    {
     "data": {
      "application/vnd.jupyter.widget-view+json": {
       "model_id": "d2622acb92444c979571a24ac6cc6696",
       "version_major": 2,
       "version_minor": 0
      },
      "text/plain": [
       "Text(value='Установите кол-во строк выгрузки', disabled=True)"
      ]
     },
     "metadata": {},
     "output_type": "display_data"
    }
   ],
   "source": [
    "import ipywidgets as widgets\n",
    "from IPython.display import display\n",
    "\n",
    "wlimit = widgets.IntSlider(min=1, max=1500, step=1, value=1000)\n",
    "display(wlimit)\n",
    "widgets.Text(value='Установите кол-во строк выгрузки', disabled=True)"
   ]
  },
  {
   "cell_type": "markdown",
   "id": "4970e4c8",
   "metadata": {},
   "source": [
    "### Ограничени по количество дней выгрузки"
   ]
  },
  {
   "cell_type": "code",
   "execution_count": 2,
   "id": "ef9014f4",
   "metadata": {},
   "outputs": [
    {
     "data": {
      "application/vnd.jupyter.widget-view+json": {
       "model_id": "4829ee18188944ab8b007d43c0b2ad67",
       "version_major": 2,
       "version_minor": 0
      },
      "text/plain": [
       "IntSlider(value=1, max=30, min=1)"
      ]
     },
     "metadata": {},
     "output_type": "display_data"
    },
    {
     "data": {
      "application/vnd.jupyter.widget-view+json": {
       "model_id": "8337137f64104e83a019c8b9f7a1e7ad",
       "version_major": 2,
       "version_minor": 0
      },
      "text/plain": [
       "Text(value='Установите кол-во дней выгрузки', disabled=True)"
      ]
     },
     "metadata": {},
     "output_type": "display_data"
    }
   ],
   "source": [
    "import ipywidgets as widgets\n",
    "from IPython.display import display\n",
    "\n",
    "wdate = widgets.IntSlider(min=1, max=30, step=1, value=1)\n",
    "display(wdate)\n",
    "widgets.Text(value='Установите кол-во дней выгрузки', disabled=True)"
   ]
  },
  {
   "cell_type": "markdown",
   "id": "4d47f1ce",
   "metadata": {},
   "source": [
    "### Скрипт для выгрузки данных из группы\n",
    ">\n",
    "> Пройдите авторизацию, или двухфакторную авторизацию, если она установленна вами.."
   ]
  },
  {
   "cell_type": "code",
   "execution_count": 3,
   "id": "a0d44722",
   "metadata": {},
   "outputs": [
    {
     "name": "stdout",
     "output_type": "stream",
     "text": [
      "Скопируйте api_id: 1859552\n",
      "Скопируйте api_hash: 22d9476bbbcca5a726b214d085206b67\n"
     ]
    },
    {
     "name": "stderr",
     "output_type": "stream",
     "text": [
      " 67%|███████████████████████████████████████████████████████▏                          | 64/95 [00:01<00:00, 47.44it/s]"
     ]
    },
    {
     "name": "stdout",
     "output_type": "stream",
     "text": [
      "Ok, End of data, limit:95\n",
      "Ok, End of data, limit:95\n",
      "Ok, End of data, limit:95\n"
     ]
    },
    {
     "name": "stderr",
     "output_type": "stream",
     "text": [
      "\n"
     ]
    }
   ],
   "source": [
    "import os\n",
    "import asyncio\n",
    "from telethon import TelegramClient\n",
    "\n",
    "from pytz import timezone\n",
    "from datetime import datetime, timedelta\n",
    "\n",
    "from tqdm import tqdm\n",
    "import ipywidgets as widgets\n",
    "import ipysheet\n",
    "\n",
    "api_id = input('Скопируйте api_id: ')\n",
    "api_hash = input('Скопируйте api_hash: ')\n",
    "\n",
    "client = TelegramClient('session_name', api_id, api_hash)\n",
    "\n",
    "\n",
    "ct = {\n",
    "    1: 'Магазин Киото',\n",
    "    2: 'Магазин Крещатик',\n",
    "    3: 'Магазин Алладин',\n",
    "    4: 'Магазин Марк Молл',\n",
    "    5: 'Магазин Житомирская',\n",
    "    6: 'Точка Гостомель',\n",
    "    7: 'Точка ХарьОК',\n",
    "    8: 'Точка Оазис',\n",
    "    9: 'Магазин КПИ',\n",
    "    10: 'Точка Малиновского',\n",
    "    11: 'Точка Вишневое',\n",
    "    12: 'Склад Бровары',\n",
    "    13: 'Магазин Петровка',\n",
    "    14: 'Склад БР22',\n",
    "    15: 'Точка Буча',\n",
    "    16: 'Склады',\n",
    "    17: 'Точка Сталинграда',\n",
    "    18: 'Точка Григоренка',\n",
    "    19: 'Точка Хоткевича',\n",
    "    20: 'Точка Лесі Українки',\n",
    "    21: 'Точка Лятошинського',\n",
    "    22: 'Точка Межигірська',\n",
    "    23: 'Точка Орнамент',\n",
    "    24: 'Точка Повітрофлотський',\n",
    "    25: 'Точка Оболонський',\n",
    "    26: 'Точка Європарк',\n",
    "    27: 'Точка Боярка',\n",
    "    28: 'Магазин ХШ',\n",
    "    29: 'Магазин Аркадія',\n",
    "    30: 'Точка Васильківська',\n",
    "    31: 'Точка Ірпінь',\n",
    "    32: 'Магазин Драйзера',\n",
    "    33: 'Точка Бориспіль',\n",
    "    34: 'Склад Мартусовка',\n",
    "    35: 'Склад Подол',\n",
    "    36: 'Точка Магелан',\n",
    "    37: 'Точка Вишгород',\n",
    "    38: 'Точка Градинська',\n",
    "    39: 'Точка Липкiвського',\n",
    "    40: 'Точка Москаленка',\n",
    "    41: 'Точка Крюківщина',\n",
    "    42: 'Точка Златоустівська',\n",
    "    43: 'Точка Льва Толстого',\n",
    "    44: 'Точка Дружби народів',\n",
    "    45: 'Точка Кольцова',\n",
    "    46: 'Точка Комп Мейтуса',\n",
    "    47: 'Точка Победы 108',\n",
    "    48: 'Точка Соборності',\n",
    "    49: 'Точка Антоновіча',\n",
    "    50: 'Точка Наб.Русановская, 4'\n",
    "}\n",
    "\n",
    "\n",
    "substr = {'КИО': ct[1], 'Кіот': ct[1], 'К іотто': ct[1], 'Кирто': ct[1], 'К иото': ct[1], 'Кiото': ct[1],\n",
    "          'КРЕЩ': ct[2], 'ХРЕЩ': ct[2], 'Крешатик': ct[2], 'Хреш': ct[2], 'Хркщ': ct[2],\n",
    "          'Киещ': ct[2], 'Коещатик': ct[2], 'щатик': ct[2],\n",
    "          'АЛАД': ct[3], 'АЛЛАД': ct[3], 'Ададин': ct[3], 'Aладін': ct[3], 'Ададдін': ct[4], 'Ададін': ct[4],\n",
    "          'ладін': ct[3], 'Аллдін': ct[3],\n",
    "          'МАРК': ct[4], 'Mark Moll': ct[4], 'Мартмол': ct[4], 'Mark Mall': ct[4], 'Мврк Мол': ct[4],\n",
    "          'мапк молл': ct[4], 'Мар мол': ct[4], 'Морк мол': ct[4],\n",
    "          'ЖИТО': ct[5], 'ЖЫТОМ': ct[5], 'Жтомир': ct[5], 'Житююж': ct[5], 'омирская': ct[5], 'Житмирская': ct[5],\n",
    "          'Житмирська': ct[5],\n",
    "          'ГОСТ': ct[6], 'Гастомель': ct[6], 'Госномель': ct[6],\n",
    "          'ХАРЬ': ct[7], 'Харёк': ct[7], 'ХАРЕК': ct[7], 'ХОР': ct[7],\n",
    "          'ОАЗ': ct[8],\n",
    "          'КПИ': ct[9], 'Кпі': ct[9], 'Поли': ct[9], 'Кп и': ct[9], 'К п и': ct[9], 'Kпи': ct[9], 'КПI': ct[9],\n",
    "          'КІП': ct[9], 'КРІ': ct[9],\n",
    "          'МАЛІН': ct[10], 'Малин': ct[10], 'Молинов': ct[10], 'еновського': ct[10], 'Малено': ct[10],\n",
    "          'ВЕШН': ct[11], 'Вишнё': ct[11], 'Вишневое': ct[11], 'Вишн': ct[11], 'Вишр': ct[11],\n",
    "          'БРОВАРЫ': ct[12], 'БТ СКЛАД': ct[12], 'Бровари': ct[12], 'Бр склад': ct[12],\n",
    "          'ПЕТР': ct[13], 'Петровка': ct[13], 'Бандери': ct[13],\n",
    "          'Бр 22': ct[14], 'Бр22': ct[14], 'Бр Ск 22': ct[14], 'Бо 22': ct[14],\n",
    "          'предпринимат': ct[14], 'Бр.Склад': ct[14], 'Ск. Бр 2': ct[14],\n",
    "          'Буча': ct[15],\n",
    "          'VMB': ct[16],\n",
    "          'Сталінг': ct[17], 'Сталин': ct[17], 'Стале': ct[17], 'инграда': ct[17], 'Стіланграда': ct[17],\n",
    "          'Сиалінграда': ct[17], 'Сталінрада': ct[17],\n",
    "          'Григор': ct[18], 'Грегор': ct[18], 'Грігоренко': ct[18], 'Григоге': ct[18],\n",
    "          'Хоткевича': ct[19], 'Гната Хоткевича': ct[19], 'Хотке': ct[19], 'Хотуевича': ct[19],\n",
    "          'Леси': ct[20], 'Л України': ct[20], 'українки': ct[20], 'Украинки': ct[20], 'Лесі': ct[20],\n",
    "          'Лят': ct[21], 'Лятуш': ct[21], 'Лчтушинского': ct[21],\n",
    "          'Межигорская': ct[22], 'Межиг': ct[22], 'Межы': ct[22], 'Меже': ct[22], 'гірська': ct[22], 'Межг': ct[22],\n",
    "          'Орнамент': ct[23],\n",
    "          'Воздух': ct[24], 'Повітро': ct[24], 'Ваозд': ct[24], 'Повітр': ct[24], 'Повiтрофлотский': ct[24],\n",
    "          'трофлотський': ct[24], 'Повiтрофлотскiй': ct[24], 'Повiтроф': ct[24], 'Повiрофлотский': ct[24],\n",
    "          'олонский': ct[25], 'Оболон': ct[25], 'Обол': ct[25],\n",
    "          'Евро': ct[26], 'Європарк': ct[26], 'Соф': ct[26], 'Борщ': ct[26], 'Боршаговка': ct[26], 'Євро парк': ct[26],\n",
    "          'Єаропарк': ct[26],\n",
    "          'Бояр': ct[27],\n",
    "          'Хш': ct[28], 'Х /ш': ct[28], 'Х ш': ct[28], 'Х/ш': ct[28], 'Х.ш': ct[28], 'X.Ш.': ct[28], 'Х//ш': ct[28],\n",
    "          'ХЩ': ct[28],\n",
    "          'Арка': ct[29],\n",
    "          'Васил': ct[30], 'сильков': ct[30], 'Васиковская': ct[30],\n",
    "          'Ирпень': ct[31], 'Ірп': ct[31], 'Iрпi': ct[31],\n",
    "          'Драй': ct[32], 'айзера': ct[32],\n",
    "          'Борис': ct[33],\n",
    "          'Марту': ct[34],\n",
    "          'Подол': ct[35], 'Поділ': ct[35], 'Кирилів': ct[35],\n",
    "          'Магел': ct[36], 'агелан': ct[36], 'Магклан': ct[36],\n",
    "          'Вишгород': ct[37], 'Вижгород': ct[37],  'Вышго': ct[37],\n",
    "          'Градинська': ct[38], 'Граденська': ct[38],\n",
    "          'Липкiвського': ct[39], 'Лепківська': ct[39], 'Липківського': ct[39],\n",
    "          'Москал': ct[40],\n",
    "          'Крюк': ct[41],\n",
    "          'Злато': ct[42], 'Золото': ct[42],\n",
    "          'Льва Толстого': ct[43],\n",
    "          'Дружб': ct[44],\n",
    "          'Кольцова': ct[45],\n",
    "          'Мейтуса': ct[46],\n",
    "          'Перемоги': ct[47], 'Победы 108': ct[47],\n",
    "          'Соборн': ct[48],\n",
    "          'Антоно': ct[49],\n",
    "          'Набережная 4б': ct[50],\n",
    "          }\n",
    "\n",
    "\n",
    "def progress(lim):\n",
    "    \n",
    "    for i in tqdm(range(lim)):\n",
    "        yield 0\n",
    "\n",
    "\n",
    "def handler_string(text):\n",
    "    tmp = []\n",
    "    for b in substr.keys():\n",
    "        sb = b.lower()\n",
    "        string = text.lower()\n",
    "        if sb in string:\n",
    "            if not substr[b] in tmp:\n",
    "                tmp.append(substr[b])\n",
    "    return tmp\n",
    "\n",
    "\n",
    "def additional_cells(jpval, date_, time_, name_, msg_, s_):\n",
    "    \n",
    "    ipysheet.cell(jpval, 0, jpval)\n",
    "    ipysheet.cell(jpval, 1, date_)\n",
    "    ipysheet.cell(jpval, 2, time_)\n",
    "    ipysheet.cell(jpval, 3, name_)\n",
    "    ipysheet.cell(jpval, 4, msg_)\n",
    "    ipysheet.cell(jpval, 5, s_)\n",
    "        \n",
    "\n",
    "async def get_messages(days_ago=1, lim=10):\n",
    "\n",
    "    sheet = ipysheet.sheet(rows=lim, columns=6)\n",
    "    sheet.column_headers = ['index', 'Date', 'Time', 'Name', 'Point', 'S']\n",
    "\n",
    "    prog_bar = progress(lim)\n",
    "    \n",
    "    days_ago = days_ago\n",
    "    delta = timedelta(days=days_ago)\n",
    "    fmt = \"%Y-%m-%d %H:%M:%S %Z%z\"\n",
    "    tz_kiev = timezone('Europe/Kiev')\n",
    "\n",
    "    tz_ = datetime.now() - delta\n",
    "    tz_date = tz_.astimezone(tz=tz_kiev)\n",
    "    today_str_date = datetime.strftime(tz_date, \"%d.%m.%Y\")\n",
    "    today_date = datetime.strptime(today_str_date, \"%d.%m.%Y\")\n",
    "\n",
    "    jpval = 0\n",
    "    \n",
    "    async with client:\n",
    "\n",
    "        async for dialog in client.iter_dialogs():\n",
    "            # print(dialog.name, 'has ID', dialog.id)\n",
    "            pass\n",
    "\n",
    "        async for message in client.iter_messages('Перемещение магазины', limit=lim):\n",
    "\n",
    "\n",
    "            cur_date = message.date\n",
    "            now_datetime = cur_date.astimezone(tz=tz_kiev)\n",
    "            data_ukr_str = datetime.strftime(now_datetime, \"%d.%m.%Y\")\n",
    "            gg = datetime.strptime(data_ukr_str, \"%d.%m.%Y\")\n",
    "\n",
    "            if gg >= today_date:\n",
    "                current_time = datetime.strftime(now_datetime, \"%H:%M:%S\")\n",
    "                # print('*' * 20)\n",
    "                msg = message.text\n",
    "                try:\n",
    "                    msg_list = msg.split('\\n')\n",
    "                    s = handler_string(msg_list[0])\n",
    "\n",
    "                    last_name = message.sender.last_name\n",
    "                    first_name = message.sender.first_name\n",
    "                    name_ = ' '.join([first_name, last_name])\n",
    "                    \n",
    "                    additional_cells(jpval, data_ukr_str, current_time, name_, msg, s)\n",
    "                    next(prog_bar)\n",
    "                    jpval += 1\n",
    "\n",
    "                except Exception as ex:\n",
    "                    # print(ex, msg_list)\n",
    "                    pass\n",
    "\n",
    "            else:\n",
    "                break\n",
    "\n",
    "        print(f'Ok, End of data, limit:{lim}')\n",
    "        print(f'Ok, End of data, limit:{lim}')\n",
    "        print(f'Ok, End of data, limit:{lim}')\n",
    "        \n",
    "    return sheet\n",
    "\n",
    "sheet = await get_messages(wdate.value, wlimit.value)  # start for Jupyter notebook\n",
    "\n",
    "# Start without jupyter\n",
    "# loop = asyncio.get_event_loop()\n",
    "# loop.run_until_complete(get_messages(1))\n"
   ]
  },
  {
   "cell_type": "markdown",
   "id": "6de67800",
   "metadata": {},
   "source": [
    "### Скачать данные в CSV file"
   ]
  },
  {
   "cell_type": "code",
   "execution_count": 6,
   "id": "172e6d6e",
   "metadata": {},
   "outputs": [
    {
     "data": {
      "text/html": [
       "<a download=\"data.csv\" href=\"data:text/csv;base64,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\" target=\"_blank\">Скачать данные в CSV file</a>"
      ],
      "text/plain": [
       "<IPython.core.display.HTML object>"
      ]
     },
     "execution_count": 6,
     "metadata": {},
     "output_type": "execute_result"
    }
   ],
   "source": [
    "import io\n",
    "import openpyxl\n",
    "from pandas import ExcelFile\n",
    "\n",
    "import base64\n",
    "from IPython.display import HTML\n",
    "from IPython.display import FileLink\n",
    "\n",
    "import warnings\n",
    "warnings.filterwarnings('ignore')\n",
    "\n",
    "def create_download_link(df, title = \"Скачать данные в CSV file\", filename = \"data.csv\"):  \n",
    "    csv = df.to_csv(sep=';', encoding='utf-8-sig', index=False)\n",
    "    b64 = base64.b64encode(csv.encode('utf-8-sig'))\n",
    "    payload = b64.decode()\n",
    "    html = '<a download=\"{filename}\" href=\"data:text/csv;base64,{payload}\" target=\"_blank\">{title}</a>'\n",
    "    html = html.format(payload=payload,title=title,filename=filename)\n",
    "    return HTML(html)\n",
    "\n",
    "new_df = ipysheet.to_dataframe(sheet)\n",
    "new_df.pop('index')\n",
    "\n",
    "create_download_link(new_df)"
   ]
  },
  {
   "cell_type": "code",
   "execution_count": null,
   "id": "9ee71d6a",
   "metadata": {},
   "outputs": [],
   "source": []
  }
 ],
 "metadata": {
  "kernelspec": {
   "display_name": "Python 3",
   "language": "python",
   "name": "python3"
  },
  "language_info": {
   "codemirror_mode": {
    "name": "ipython",
    "version": 3
   },
   "file_extension": ".py",
   "mimetype": "text/x-python",
   "name": "python",
   "nbconvert_exporter": "python",
   "pygments_lexer": "ipython3",
   "version": "3.8.5"
  }
 },
 "nbformat": 4,
 "nbformat_minor": 5
}
