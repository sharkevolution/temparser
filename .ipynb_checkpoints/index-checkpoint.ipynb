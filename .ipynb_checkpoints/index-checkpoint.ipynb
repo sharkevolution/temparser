{
 "cells": [
  {
   "cell_type": "markdown",
   "id": "dbef7f05",
   "metadata": {},
   "source": [
    "# Загрузка данных из группы Telegram"
   ]
  },
  {
   "cell_type": "markdown",
   "id": "317da987",
   "metadata": {},
   "source": [
    "Cмотрите шаг за шагом ниже, для получения **api_id и api_hash**\n",
    "\n",
    "1. Подпишитесь на Telegram с помощью любого приложения.\n",
    "2. Войдите в свой Telegram core:  *https://my.telegram.org*\n",
    "3. Перейдите в раздел \"инструменты разработки API\" и заполните форму.\n",
    "4. Вы получите основные адреса, а также параметры api_id и api_hash, необходимые для авторизации пользователя.\n",
    "\n",
    "На данный момент к каждому номеру может быть подключен только один api_id."
   ]
  },
  {
   "cell_type": "markdown",
   "id": "b3df46de",
   "metadata": {},
   "source": [
    "### Ограничение по количеству строк выгрузки"
   ]
  },
  {
   "cell_type": "code",
   "execution_count": 7,
   "id": "1a5d61ce",
   "metadata": {
    "scrolled": true
   },
   "outputs": [
    {
     "data": {
      "application/vnd.jupyter.widget-view+json": {
       "model_id": "02a3c7c6e3204cf79e97a12ee4e2eb3a",
       "version_major": 2,
       "version_minor": 0
      },
      "text/plain": [
       "IntSlider(value=1000, max=1500, min=1)"
      ]
     },
     "metadata": {},
     "output_type": "display_data"
    },
    {
     "data": {
      "application/vnd.jupyter.widget-view+json": {
       "model_id": "abda8727d7d449eb9b9d9030848da1d8",
       "version_major": 2,
       "version_minor": 0
      },
      "text/plain": [
       "Text(value='Установите кол-во строк выгрузки', disabled=True)"
      ]
     },
     "metadata": {},
     "output_type": "display_data"
    }
   ],
   "source": [
    "import ipywidgets as widgets\n",
    "from IPython.display import display\n",
    "\n",
    "wlimit = widgets.IntSlider(min=1, max=1500, step=1, value=1000)\n",
    "display(wlimit)\n",
    "widgets.Text(value='Установите кол-во строк выгрузки', disabled=True)"
   ]
  },
  {
   "cell_type": "markdown",
   "id": "ccd6f545",
   "metadata": {},
   "source": [
    "### Ограничени по количество дней выгрузки"
   ]
  },
  {
   "cell_type": "code",
   "execution_count": 8,
   "id": "1b17a440",
   "metadata": {},
   "outputs": [
    {
     "data": {
      "application/vnd.jupyter.widget-view+json": {
       "model_id": "7c599458289e42c0aef094eb4a8f8ca4",
       "version_major": 2,
       "version_minor": 0
      },
      "text/plain": [
       "IntSlider(value=1, max=30, min=1)"
      ]
     },
     "metadata": {},
     "output_type": "display_data"
    },
    {
     "data": {
      "application/vnd.jupyter.widget-view+json": {
       "model_id": "5cb20b41420548b9ba36ef81e549763b",
       "version_major": 2,
       "version_minor": 0
      },
      "text/plain": [
       "Text(value='Установите кол-во дней выгрузки', disabled=True)"
      ]
     },
     "metadata": {},
     "output_type": "display_data"
    }
   ],
   "source": [
    "import ipywidgets as widgets\n",
    "from IPython.display import display\n",
    "\n",
    "wdate = widgets.IntSlider(min=1, max=30, step=1, value=1)\n",
    "display(wdate)\n",
    "widgets.Text(value='Установите кол-во дней выгрузки', disabled=True)"
   ]
  },
  {
   "cell_type": "markdown",
   "id": "becb9656",
   "metadata": {},
   "source": [
    "### Скрипт для выгрузки данных из группы\n",
    ">\n",
    "> Пройдите авторизацию, или двухфакторную авторизацию, если она установленна вами.."
   ]
  },
  {
   "cell_type": "code",
   "execution_count": 9,
   "id": "c6096c5c",
   "metadata": {},
   "outputs": [
    {
     "name": "stdout",
     "output_type": "stream",
     "text": [
      "Скопируйте api_id: 1859552\n",
      "Скопируйте api_hash: 22d9476bbbcca5a726b214d085206b67\n"
     ]
    },
    {
     "name": "stderr",
     "output_type": "stream",
     "text": [
      " 32%|█████████████████████████▉                                                      | 320/988 [00:14<00:29, 22.69it/s]"
     ]
    },
    {
     "name": "stdout",
     "output_type": "stream",
     "text": [
      "Ok, End of data, limit:988\n",
      "Ok, End of data, limit:988\n",
      "Ok, End of data, limit:988\n"
     ]
    },
    {
     "name": "stderr",
     "output_type": "stream",
     "text": [
      "\n"
     ]
    }
   ],
   "source": [
    "import os\n",
    "import asyncio\n",
    "from telethon import TelegramClient\n",
    "\n",
    "from pytz import timezone\n",
    "from datetime import datetime, timedelta\n",
    "\n",
    "from tqdm import tqdm\n",
    "import ipysheet\n",
    "\n",
    "api_id = input('Скопируйте api_id: ')\n",
    "api_hash = input('Скопируйте api_hash: ')\n",
    "\n",
    "client = TelegramClient('session_name', api_id, api_hash)\n",
    "\n",
    "\n",
    "ct = {\n",
    "    1: 'Магазин Киото',\n",
    "    2: 'Магазин Крещатик',\n",
    "    3: 'Магазин Алладин',\n",
    "    4: 'Магазин Марк Молл',\n",
    "    5: 'Магазин Житомирская',\n",
    "    6: 'Точка Гостомель',\n",
    "    7: 'Точка ХарьОК',\n",
    "    8: 'Точка Оазис',\n",
    "    9: 'Магазин КПИ',\n",
    "    10: 'Точка Малиновского',\n",
    "    11: 'Точка Вишневое',\n",
    "    12: 'Склад Бровары',\n",
    "    13: 'Магазин Петровка',\n",
    "    14: 'Склад БР22',\n",
    "    15: 'Точка Буча',\n",
    "    16: 'Склады',\n",
    "    17: 'Точка Сталинграда',\n",
    "    18: 'Точка Григоренка',\n",
    "    19: 'Точка Хоткевича',\n",
    "    20: 'Точка Лесі Українки',\n",
    "    21: 'Точка Лятошинського',\n",
    "    22: 'Точка Межигірська',\n",
    "    23: 'Точка Орнамент',\n",
    "    24: 'Точка Повітрофлотський',\n",
    "    25: 'Точка Оболонський',\n",
    "    26: 'Точка Європарк',\n",
    "    27: 'Точка Боярка',\n",
    "    28: 'Магазин ХШ',\n",
    "    29: 'Магазин Аркадія',\n",
    "    30: 'Точка Васильківська',\n",
    "    31: 'Точка Ірпінь',\n",
    "    32: 'Магазин Драйзера',\n",
    "    33: 'Точка Бориспіль',\n",
    "    34: 'Склад Мартусовка',\n",
    "    35: 'Склад Подол',\n",
    "    36: 'Точка Магелан',\n",
    "    37: 'Точка Вишгород',\n",
    "    38: 'Точка Градинська',\n",
    "    39: 'Точка Липкiвського',\n",
    "    40: 'Точка Москаленка',\n",
    "    41: 'Точка Крюківщина',\n",
    "    42: 'Точка Златоустівська',\n",
    "    43: 'Точка Льва Толстого',\n",
    "    44: 'Точка Дружби народів',\n",
    "    45: 'Точка Кольцова',\n",
    "    46: 'Точка Комп Мейтуса',\n",
    "    47: 'Точка Победы 108',\n",
    "    48: 'Точка Соборності',\n",
    "    49: 'Точка Антоновіча',\n",
    "    50: 'Точка Наб.Русановская, 4'\n",
    "}\n",
    "\n",
    "\n",
    "substr = {'КИО': ct[1], 'Кіот': ct[1], 'К іотто': ct[1], 'Кирто': ct[1], 'К иото': ct[1], 'Кiото': ct[1],\n",
    "          'КРЕЩ': ct[2], 'ХРЕЩ': ct[2], 'Крешатик': ct[2], 'Хреш': ct[2], 'Хркщ': ct[2],\n",
    "          'Киещ': ct[2], 'Коещатик': ct[2], 'щатик': ct[2],\n",
    "          'АЛАД': ct[3], 'АЛЛАД': ct[3], 'Ададин': ct[3], 'Aладін': ct[3], 'Ададдін': ct[4], 'Ададін': ct[4],\n",
    "          'ладін': ct[3], 'Аллдін': ct[3],\n",
    "          'МАРК': ct[4], 'Mark Moll': ct[4], 'Мартмол': ct[4], 'Mark Mall': ct[4], 'Мврк Мол': ct[4],\n",
    "          'мапк молл': ct[4], 'Мар мол': ct[4], 'Морк мол': ct[4],\n",
    "          'ЖИТО': ct[5], 'ЖЫТОМ': ct[5], 'Жтомир': ct[5], 'Житююж': ct[5], 'омирская': ct[5], 'Житмирская': ct[5],\n",
    "          'Житмирська': ct[5],\n",
    "          'ГОСТ': ct[6], 'Гастомель': ct[6], 'Госномель': ct[6],\n",
    "          'ХАРЬ': ct[7], 'Харёк': ct[7], 'ХАРЕК': ct[7], 'ХОР': ct[7],\n",
    "          'ОАЗ': ct[8],\n",
    "          'КПИ': ct[9], 'Кпі': ct[9], 'Поли': ct[9], 'Кп и': ct[9], 'К п и': ct[9], 'Kпи': ct[9], 'КПI': ct[9],\n",
    "          'КІП': ct[9], 'КРІ': ct[9],\n",
    "          'МАЛІН': ct[10], 'Малин': ct[10], 'Молинов': ct[10], 'еновського': ct[10], 'Малено': ct[10],\n",
    "          'ВЕШН': ct[11], 'Вишнё': ct[11], 'Вишневое': ct[11], 'Вишн': ct[11], 'Вишр': ct[11],\n",
    "          'БРОВАРЫ': ct[12], 'БТ СКЛАД': ct[12], 'Бровари': ct[12], 'Бр склад': ct[12],\n",
    "          'ПЕТР': ct[13], 'Петровка': ct[13], 'Бандери': ct[13],\n",
    "          'Бр 22': ct[14], 'Бр22': ct[14], 'Бр Ск 22': ct[14], 'Бо 22': ct[14],\n",
    "          'предпринимат': ct[14], 'Бр.Склад': ct[14], 'Ск. Бр 2': ct[14],\n",
    "          'Буча': ct[15],\n",
    "          'VMB': ct[16],\n",
    "          'Сталінг': ct[17], 'Сталин': ct[17], 'Стале': ct[17], 'инграда': ct[17], 'Стіланграда': ct[17],\n",
    "          'Сиалінграда': ct[17], 'Сталінрада': ct[17],\n",
    "          'Григор': ct[18], 'Грегор': ct[18], 'Грігоренко': ct[18], 'Григоге': ct[18],\n",
    "          'Хоткевича': ct[19], 'Гната Хоткевича': ct[19], 'Хотке': ct[19], 'Хотуевича': ct[19],\n",
    "          'Леси': ct[20], 'Л України': ct[20], 'українки': ct[20], 'Украинки': ct[20], 'Лесі': ct[20],\n",
    "          'Лят': ct[21], 'Лятуш': ct[21], 'Лчтушинского': ct[21],\n",
    "          'Межигорская': ct[22], 'Межиг': ct[22], 'Межы': ct[22], 'Меже': ct[22], 'гірська': ct[22], 'Межг': ct[22],\n",
    "          'Орнамент': ct[23],\n",
    "          'Воздух': ct[24], 'Повітро': ct[24], 'Ваозд': ct[24], 'Повітр': ct[24], 'Повiтрофлотский': ct[24],\n",
    "          'трофлотський': ct[24], 'Повiтрофлотскiй': ct[24], 'Повiтроф': ct[24], 'Повiрофлотский': ct[24],\n",
    "          'олонский': ct[25], 'Оболон': ct[25], 'Обол': ct[25],\n",
    "          'Евро': ct[26], 'Європарк': ct[26], 'Соф': ct[26], 'Борщ': ct[26], 'Боршаговка': ct[26], 'Євро парк': ct[26],\n",
    "          'Єаропарк': ct[26],\n",
    "          'Бояр': ct[27],\n",
    "          'Хш': ct[28], 'Х /ш': ct[28], 'Х ш': ct[28], 'Х/ш': ct[28], 'Х.ш': ct[28], 'X.Ш.': ct[28], 'Х//ш': ct[28],\n",
    "          'ХЩ': ct[28],\n",
    "          'Арка': ct[29],\n",
    "          'Васил': ct[30], 'сильков': ct[30], 'Васиковская': ct[30],\n",
    "          'Ирпень': ct[31], 'Ірп': ct[31], 'Iрпi': ct[31],\n",
    "          'Драй': ct[32], 'айзера': ct[32],\n",
    "          'Борис': ct[33],\n",
    "          'Марту': ct[34],\n",
    "          'Подол': ct[35], 'Поділ': ct[35], 'Кирилів': ct[35],\n",
    "          'Магел': ct[36], 'агелан': ct[36], 'Магклан': ct[36],\n",
    "          'Вишгород': ct[37], 'Вижгород': ct[37],  'Вышго': ct[37],\n",
    "          'Градинська': ct[38], 'Граденська': ct[38],\n",
    "          'Липкiвського': ct[39], 'Лепківська': ct[39], 'Липківського': ct[39],\n",
    "          'Москал': ct[40],\n",
    "          'Крюк': ct[41],\n",
    "          'Злато': ct[42], 'Золото': ct[42],\n",
    "          'Льва Толстого': ct[43],\n",
    "          'Дружб': ct[44],\n",
    "          'Кольцова': ct[45],\n",
    "          'Мейтуса': ct[46],\n",
    "          'Перемоги': ct[47], 'Победы 108': ct[47],\n",
    "          'Соборн': ct[48],\n",
    "          'Антоно': ct[49],\n",
    "          'Набережная 4б': ct[50],\n",
    "          }\n",
    "\n",
    "\n",
    "def progress(lim):\n",
    "    \n",
    "    for i in tqdm(range(lim)):\n",
    "        yield 0\n",
    "\n",
    "\n",
    "def handler_string(text):\n",
    "    tmp = []\n",
    "    for b in substr.keys():\n",
    "        sb = b.lower()\n",
    "        string = text.lower()\n",
    "        if sb in string:\n",
    "            if not substr[b] in tmp:\n",
    "                tmp.append(substr[b])\n",
    "    return tmp\n",
    "\n",
    "\n",
    "def additional_cells(jpval, date_, time_, name_, msg_, s_):\n",
    "    \n",
    "    ipysheet.cell(jpval, 0, jpval)\n",
    "    ipysheet.cell(jpval, 1, date_)\n",
    "    ipysheet.cell(jpval, 2, time_)\n",
    "    ipysheet.cell(jpval, 3, name_)\n",
    "    ipysheet.cell(jpval, 4, msg_)\n",
    "    ipysheet.cell(jpval, 5, s_)\n",
    "        \n",
    "\n",
    "async def get_messages(days_ago=1, lim=10):\n",
    "\n",
    "    sheet = ipysheet.sheet(rows=lim, columns=6)\n",
    "    sheet.column_headers = ['index', 'Date', 'Time', 'Name', 'Point', 'S']\n",
    "\n",
    "    prog_bar = progress(lim)\n",
    "    \n",
    "    days_ago = days_ago\n",
    "    delta = timedelta(days=days_ago)\n",
    "    fmt = \"%Y-%m-%d %H:%M:%S %Z%z\"\n",
    "    tz_kiev = timezone('Europe/Kiev')\n",
    "\n",
    "    tz_ = datetime.now() - delta\n",
    "    tz_date = tz_.astimezone(tz=tz_kiev)\n",
    "    today_str_date = datetime.strftime(tz_date, \"%d.%m.%Y\")\n",
    "    today_date = datetime.strptime(today_str_date, \"%d.%m.%Y\")\n",
    "\n",
    "    jpval = 0\n",
    "    \n",
    "    async with client:\n",
    "\n",
    "        async for dialog in client.iter_dialogs():\n",
    "            # print(dialog.name, 'has ID', dialog.id)\n",
    "            pass\n",
    "\n",
    "        async for message in client.iter_messages('Перемещение магазины', limit=lim):\n",
    "\n",
    "\n",
    "            cur_date = message.date\n",
    "            now_datetime = cur_date.astimezone(tz=tz_kiev)\n",
    "            data_ukr_str = datetime.strftime(now_datetime, \"%d.%m.%Y\")\n",
    "            gg = datetime.strptime(data_ukr_str, \"%d.%m.%Y\")\n",
    "\n",
    "            if gg >= today_date:\n",
    "                current_time = datetime.strftime(now_datetime, \"%H:%M:%S\")\n",
    "                # print('*' * 20)\n",
    "                msg = message.text\n",
    "                try:\n",
    "                    msg_list = msg.split('\\n')\n",
    "                    s = handler_string(msg_list[0])\n",
    "\n",
    "                    last_name = message.sender.last_name\n",
    "                    first_name = message.sender.first_name\n",
    "                    name_ = ' '.join([first_name, last_name])\n",
    "                    \n",
    "                    additional_cells(jpval, data_ukr_str, current_time, name_, msg, s)\n",
    "                    next(prog_bar)\n",
    "                    jpval += 1\n",
    "\n",
    "                except Exception as ex:\n",
    "                    # print(ex, msg_list)\n",
    "                    pass\n",
    "\n",
    "            else:\n",
    "                break\n",
    "\n",
    "        print(f'Ok, End of data, limit:{lim}')\n",
    "        print(f'Ok, End of data, limit:{lim}')\n",
    "        print(f'Ok, End of data, limit:{lim}')\n",
    "        \n",
    "    return sheet\n",
    "\n",
    "sheet = await get_messages(wdate.value, wlimit.value)  # start for Jupyter notebook\n",
    "\n",
    "# Start without jupyter\n",
    "# loop = asyncio.get_event_loop()\n",
    "# loop.run_until_complete(get_messages(1))\n",
    "    \n"
   ]
  },
  {
   "cell_type": "markdown",
   "id": "98033ce2",
   "metadata": {},
   "source": [
    "### Скачать данные в CSV file"
   ]
  },
  {
   "cell_type": "code",
   "execution_count": 10,
   "id": "0f1474ef",
   "metadata": {},
   "outputs": [
    {
     "data": {
      "text/html": [
       "<a download=\"data.csv\" href=\"data:text/csv;base64,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\" target=\"_blank\">Скачать данные в CSV file</a>"
      ],
      "text/plain": [
       "<IPython.core.display.HTML object>"
      ]
     },
     "execution_count": 10,
     "metadata": {},
     "output_type": "execute_result"
    }
   ],
   "source": [
    "import io\n",
    "import openpyxl\n",
    "from pandas import ExcelFile\n",
    "\n",
    "import base64\n",
    "from IPython.display import HTML\n",
    "from IPython.display import FileLink\n",
    "\n",
    "def create_download_link(df, title = \"Скачать данные в CSV file\", filename = \"data.csv\"):  \n",
    "    csv = df.to_csv(sep=';', encoding='utf-8-sig', index=False)\n",
    "    b64 = base64.b64encode(csv.encode('utf-8-sig'))\n",
    "    payload = b64.decode()\n",
    "    html = '<a download=\"{filename}\" href=\"data:text/csv;base64,{payload}\" target=\"_blank\">{title}</a>'\n",
    "    html = html.format(payload=payload,title=title,filename=filename)\n",
    "    return HTML(html)\n",
    "\n",
    "new_df = ipysheet.to_dataframe(sheet)\n",
    "new_df.pop('index')\n",
    "\n",
    "create_download_link(new_df)"
   ]
  },
  {
   "cell_type": "code",
   "execution_count": null,
   "id": "bbd65a5c",
   "metadata": {},
   "outputs": [],
   "source": []
  },
  {
   "cell_type": "code",
   "execution_count": null,
   "id": "7dd27790",
   "metadata": {},
   "outputs": [],
   "source": []
  }
 ],
 "metadata": {
  "kernelspec": {
   "display_name": "Python 3",
   "language": "python",
   "name": "python3"
  },
  "language_info": {
   "codemirror_mode": {
    "name": "ipython",
    "version": 3
   },
   "file_extension": ".py",
   "mimetype": "text/x-python",
   "name": "python",
   "nbconvert_exporter": "python",
   "pygments_lexer": "ipython3",
   "version": "3.8.5"
  }
 },
 "nbformat": 4,
 "nbformat_minor": 5
}
