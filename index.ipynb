{
 "cells": [
  {
   "cell_type": "markdown",
   "id": "e49883f1",
   "metadata": {},
   "source": [
    "# Загрузка данных из группы Telegram"
   ]
  },
  {
   "cell_type": "markdown",
   "id": "52962423",
   "metadata": {},
   "source": [
    "Cмотрите шаг за шагом ниже, для получения **api_id и api_hash**\n",
    "\n",
    "1. Подпишитесь на Telegram с помощью любого приложения.\n",
    "2. Войдите в свой Telegram core:  *https://my.telegram.org*\n",
    "3. Перейдите в раздел \"инструменты разработки API\" и заполните форму.\n",
    "4. Вы получите основные адреса, а также параметры api_id и api_hash, необходимые для авторизации пользователя.\n",
    "\n",
    "На данный момент к каждому номеру может быть подключен только один api_id."
   ]
  },
  {
   "cell_type": "markdown",
   "id": "c262b83c",
   "metadata": {},
   "source": [
    "### Ограничение по количеству строк выгрузки"
   ]
  },
  {
   "cell_type": "code",
   "execution_count": 2,
   "id": "da5937cf",
   "metadata": {
    "scrolled": true
   },
   "outputs": [
    {
     "data": {
      "application/vnd.jupyter.widget-view+json": {
       "model_id": "0806d1d69aa641b093db6972af9bd599",
       "version_major": 2,
       "version_minor": 0
      },
      "text/plain": [
       "IntSlider(value=1000, max=1500, min=1)"
      ]
     },
     "metadata": {},
     "output_type": "display_data"
    },
    {
     "data": {
      "application/vnd.jupyter.widget-view+json": {
       "model_id": "bde033592b8544abaa7feb4c624cc4dd",
       "version_major": 2,
       "version_minor": 0
      },
      "text/plain": [
       "Text(value='Установите кол-во строк выгрузки', disabled=True)"
      ]
     },
     "metadata": {},
     "output_type": "display_data"
    }
   ],
   "source": [
    "import ipywidgets as widgets\n",
    "from IPython.display import display\n",
    "\n",
    "wlimit = widgets.IntSlider(min=1, max=1500, step=1, value=1000)\n",
    "display(wlimit)\n",
    "widgets.Text(value='Установите кол-во строк выгрузки', disabled=True)"
   ]
  },
  {
   "cell_type": "markdown",
   "id": "4970e4c8",
   "metadata": {},
   "source": [
    "### Ограничени по количество дней выгрузки"
   ]
  },
  {
   "cell_type": "code",
   "execution_count": 3,
   "id": "ef9014f4",
   "metadata": {},
   "outputs": [
    {
     "data": {
      "application/vnd.jupyter.widget-view+json": {
       "model_id": "04631a07e0dd4780b7093907b14b63c4",
       "version_major": 2,
       "version_minor": 0
      },
      "text/plain": [
       "IntSlider(value=1, max=30, min=1)"
      ]
     },
     "metadata": {},
     "output_type": "display_data"
    },
    {
     "data": {
      "application/vnd.jupyter.widget-view+json": {
       "model_id": "884d48bf3502445880efbd7c073f8a89",
       "version_major": 2,
       "version_minor": 0
      },
      "text/plain": [
       "Text(value='Установите кол-во дней выгрузки', disabled=True)"
      ]
     },
     "metadata": {},
     "output_type": "display_data"
    }
   ],
   "source": [
    "import ipywidgets as widgets\n",
    "from IPython.display import display\n",
    "\n",
    "wdate = widgets.IntSlider(min=1, max=30, step=1, value=1)\n",
    "display(wdate)\n",
    "widgets.Text(value='Установите кол-во дней выгрузки', disabled=True)"
   ]
  },
  {
   "cell_type": "markdown",
   "id": "4d47f1ce",
   "metadata": {},
   "source": [
    "### Скрипт для выгрузки данных из группы\n",
    ">\n",
    "> Пройдите авторизацию, или двухфакторную авторизацию, если она установленна вами.."
   ]
  },
  {
   "cell_type": "code",
   "execution_count": 4,
   "id": "a0d44722",
   "metadata": {
    "scrolled": true
   },
   "outputs": [
    {
     "name": "stdout",
     "output_type": "stream",
     "text": [
      "Скопируйте api_id: 1859552\n",
      "Скопируйте api_hash: 22d9476bbbcca5a726b214d085206b67\n"
     ]
    },
    {
     "name": "stderr",
     "output_type": "stream",
     "text": [
      " 72%|██████████████████████████████████████████████████████████▋                       | 48/67 [00:00<00:00, 48.44it/s]"
     ]
    },
    {
     "name": "stdout",
     "output_type": "stream",
     "text": [
      "Ok, End of data, limit:67\n",
      "Ok, End of data, limit:67\n",
      "Ok, End of data, limit:67\n"
     ]
    },
    {
     "name": "stderr",
     "output_type": "stream",
     "text": [
      "\n"
     ]
    }
   ],
   "source": [
    "import os\n",
    "import asyncio\n",
    "from telethon import TelegramClient\n",
    "\n",
    "from pytz import timezone\n",
    "from datetime import datetime, timedelta\n",
    "\n",
    "from tqdm import tqdm\n",
    "import ipywidgets as widgets\n",
    "import ipysheet\n",
    "\n",
    "api_id = input('Скопируйте api_id: ')\n",
    "api_hash = input('Скопируйте api_hash: ')\n",
    "\n",
    "client = TelegramClient('session_name', api_id, api_hash)\n",
    "\n",
    "\n",
    "ct = {\n",
    "    1: 'Магазин Киото',\n",
    "    2: 'Магазин Крещатик',\n",
    "    3: 'Магазин Алладин',\n",
    "    4: 'Магазин Марк Молл',\n",
    "    5: 'Магазин Житомирская',\n",
    "    6: 'Точка Гостомель',\n",
    "    7: 'Точка ХарьОК',\n",
    "    8: 'Точка Оазис',\n",
    "    9: 'Магазин КПИ',\n",
    "    10: 'Точка Малиновского',\n",
    "    11: 'Точка Вишневое',\n",
    "    12: 'Склад Бровары',\n",
    "    13: 'Магазин Петровка',\n",
    "    14: 'Склад БР22',\n",
    "    15: 'Точка Буча',\n",
    "    16: 'Склады',\n",
    "    17: 'Точка Сталинграда',\n",
    "    18: 'Точка Григоренка',\n",
    "    19: 'Точка Хоткевича',\n",
    "    20: 'Точка Лесі Українки',\n",
    "    21: 'Точка Лятошинського',\n",
    "    22: 'Точка Межигірська',\n",
    "    23: 'Точка Орнамент',\n",
    "    24: 'Точка Повітрофлотський',\n",
    "    25: 'Точка Оболонський',\n",
    "    26: 'Точка Європарк',\n",
    "    27: 'Точка Боярка',\n",
    "    28: 'Магазин ХШ',\n",
    "    29: 'Магазин Аркадія',\n",
    "    30: 'Точка Васильківська',\n",
    "    31: 'Точка Ірпінь',\n",
    "    32: 'Магазин Драйзера',\n",
    "    33: 'Точка Бориспіль',\n",
    "    34: 'Склад Мартусовка',\n",
    "    35: 'Склад Подол',\n",
    "    36: 'Точка Магелан',\n",
    "    37: 'Точка Вишгород',\n",
    "    38: 'Точка Градинська',\n",
    "    39: 'Точка Липкiвського',\n",
    "    40: 'Точка Москаленка',\n",
    "    41: 'Точка Крюківщина',\n",
    "    42: 'Точка Златоустівська',\n",
    "    43: 'Точка Льва Толстого',\n",
    "    44: 'Точка Дружби народів',\n",
    "    45: 'Точка Кольцова',\n",
    "    46: 'Точка Комп Мейтуса',\n",
    "    47: 'Точка Победы 108',\n",
    "    48: 'Точка Соборності',\n",
    "    49: 'Точка Антоновіча',\n",
    "    50: 'Точка Наб.Русановская, 4'\n",
    "}\n",
    "\n",
    "\n",
    "substr = {'КИО': ct[1], 'Кіот': ct[1], 'К іотто': ct[1], 'Кирто': ct[1], 'К иото': ct[1], 'Кiото': ct[1],\n",
    "          'КРЕЩ': ct[2], 'ХРЕЩ': ct[2], 'Крешатик': ct[2], 'Хреш': ct[2], 'Хркщ': ct[2],\n",
    "          'Киещ': ct[2], 'Коещатик': ct[2], 'щатик': ct[2],\n",
    "          'АЛАД': ct[3], 'АЛЛАД': ct[3], 'Ададин': ct[3], 'Aладін': ct[3], 'Ададдін': ct[4], 'Ададін': ct[4],\n",
    "          'ладін': ct[3], 'Аллдін': ct[3],\n",
    "          'МАРК': ct[4], 'Mark Moll': ct[4], 'Мартмол': ct[4], 'Mark Mall': ct[4], 'Мврк Мол': ct[4],\n",
    "          'мапк молл': ct[4], 'Мар мол': ct[4], 'Морк мол': ct[4],\n",
    "          'ЖИТО': ct[5], 'ЖЫТОМ': ct[5], 'Жтомир': ct[5], 'Житююж': ct[5], 'омирская': ct[5], 'Житмирская': ct[5],\n",
    "          'Житмирська': ct[5],\n",
    "          'ГОСТ': ct[6], 'Гастомель': ct[6], 'Госномель': ct[6],\n",
    "          'ХАРЬ': ct[7], 'Харёк': ct[7], 'ХАРЕК': ct[7], 'ХОР': ct[7],\n",
    "          'ОАЗ': ct[8],\n",
    "          'КПИ': ct[9], 'Кпі': ct[9], 'Поли': ct[9], 'Кп и': ct[9], 'К п и': ct[9], 'Kпи': ct[9], 'КПI': ct[9],\n",
    "          'КІП': ct[9], 'КРІ': ct[9],\n",
    "          'МАЛІН': ct[10], 'Малин': ct[10], 'Молинов': ct[10], 'еновського': ct[10], 'Малено': ct[10],\n",
    "          'ВЕШН': ct[11], 'Вишнё': ct[11], 'Вишневое': ct[11], 'Вишн': ct[11], 'Вишр': ct[11],\n",
    "          'БРОВАРЫ': ct[12], 'БТ СКЛАД': ct[12], 'Бровари': ct[12], 'Бр склад': ct[12],\n",
    "          'ПЕТР': ct[13], 'Петровка': ct[13], 'Бандери': ct[13],\n",
    "          'Бр 22': ct[14], 'Бр22': ct[14], 'Бр Ск 22': ct[14], 'Бо 22': ct[14],\n",
    "          'предпринимат': ct[14], 'Бр.Склад': ct[14], 'Ск. Бр 2': ct[14],\n",
    "          'Буча': ct[15],\n",
    "          'VMB': ct[16],\n",
    "          'Сталінг': ct[17], 'Сталин': ct[17], 'Стале': ct[17], 'инграда': ct[17], 'Стіланграда': ct[17],\n",
    "          'Сиалінграда': ct[17], 'Сталінрада': ct[17],\n",
    "          'Григор': ct[18], 'Грегор': ct[18], 'Грігоренко': ct[18], 'Григоге': ct[18],\n",
    "          'Хоткевича': ct[19], 'Гната Хоткевича': ct[19], 'Хотке': ct[19], 'Хотуевича': ct[19],\n",
    "          'Леси': ct[20], 'Л України': ct[20], 'українки': ct[20], 'Украинки': ct[20], 'Лесі': ct[20],\n",
    "          'Лят': ct[21], 'Лятуш': ct[21], 'Лчтушинского': ct[21],\n",
    "          'Межигорская': ct[22], 'Межиг': ct[22], 'Межы': ct[22], 'Меже': ct[22], 'гірська': ct[22], 'Межг': ct[22],\n",
    "          'Орнамент': ct[23],\n",
    "          'Воздух': ct[24], 'Повітро': ct[24], 'Ваозд': ct[24], 'Повітр': ct[24], 'Повiтрофлотский': ct[24],\n",
    "          'трофлотський': ct[24], 'Повiтрофлотскiй': ct[24], 'Повiтроф': ct[24], 'Повiрофлотский': ct[24],\n",
    "          'олонский': ct[25], 'Оболон': ct[25], 'Обол': ct[25],\n",
    "          'Евро': ct[26], 'Європарк': ct[26], 'Соф': ct[26], 'Борщ': ct[26], 'Боршаговка': ct[26], 'Євро парк': ct[26],\n",
    "          'Єаропарк': ct[26],\n",
    "          'Бояр': ct[27],\n",
    "          'Хш': ct[28], 'Х /ш': ct[28], 'Х ш': ct[28], 'Х/ш': ct[28], 'Х.ш': ct[28], 'X.Ш.': ct[28], 'Х//ш': ct[28],\n",
    "          'ХЩ': ct[28],\n",
    "          'Арка': ct[29],\n",
    "          'Васил': ct[30], 'сильков': ct[30], 'Васиковская': ct[30],\n",
    "          'Ирпень': ct[31], 'Ірп': ct[31], 'Iрпi': ct[31],\n",
    "          'Драй': ct[32], 'айзера': ct[32],\n",
    "          'Борис': ct[33],\n",
    "          'Марту': ct[34],\n",
    "          'Подол': ct[35], 'Поділ': ct[35], 'Кирилів': ct[35],\n",
    "          'Магел': ct[36], 'агелан': ct[36], 'Магклан': ct[36],\n",
    "          'Вишгород': ct[37], 'Вижгород': ct[37],  'Вышго': ct[37],\n",
    "          'Градинська': ct[38], 'Граденська': ct[38],\n",
    "          'Липкiвського': ct[39], 'Лепківська': ct[39], 'Липківського': ct[39],\n",
    "          'Москал': ct[40],\n",
    "          'Крюк': ct[41],\n",
    "          'Злато': ct[42], 'Золото': ct[42],\n",
    "          'Льва Толстого': ct[43],\n",
    "          'Дружб': ct[44],\n",
    "          'Кольцова': ct[45],\n",
    "          'Мейтуса': ct[46],\n",
    "          'Перемоги': ct[47], 'Победы 108': ct[47],\n",
    "          'Соборн': ct[48],\n",
    "          'Антоно': ct[49],\n",
    "          'Набережная 4б': ct[50],\n",
    "          }\n",
    "\n",
    "\n",
    "def progress(lim):\n",
    "    \n",
    "    for i in tqdm(range(lim)):\n",
    "        yield 0\n",
    "\n",
    "\n",
    "def handler_string(text):\n",
    "    tmp = []\n",
    "    for b in substr.keys():\n",
    "        sb = b.lower()\n",
    "        string = text.lower()\n",
    "        if sb in string:\n",
    "            if not substr[b] in tmp:\n",
    "                tmp.append(substr[b])\n",
    "    return tmp\n",
    "\n",
    "\n",
    "def additional_cells(jpval, date_, time_, name_, msg_, s_):\n",
    "    \n",
    "    ipysheet.cell(jpval, 0, jpval)\n",
    "    ipysheet.cell(jpval, 1, date_)\n",
    "    ipysheet.cell(jpval, 2, time_)\n",
    "    ipysheet.cell(jpval, 3, name_)\n",
    "    ipysheet.cell(jpval, 4, msg_)\n",
    "    ipysheet.cell(jpval, 5, s_)\n",
    "        \n",
    "\n",
    "async def get_messages(days_ago=1, lim=10):\n",
    "\n",
    "    sheet = ipysheet.sheet(rows=lim, columns=6)\n",
    "    sheet.column_headers = ['index', 'Date', 'Time', 'Name', 'Point', 'S']\n",
    "\n",
    "    prog_bar = progress(lim)\n",
    "    \n",
    "    days_ago = days_ago\n",
    "    delta = timedelta(days=days_ago)\n",
    "    fmt = \"%Y-%m-%d %H:%M:%S %Z%z\"\n",
    "    tz_kiev = timezone('Europe/Kiev')\n",
    "\n",
    "    tz_ = datetime.now() - delta\n",
    "    tz_date = tz_.astimezone(tz=tz_kiev)\n",
    "    today_str_date = datetime.strftime(tz_date, \"%d.%m.%Y\")\n",
    "    today_date = datetime.strptime(today_str_date, \"%d.%m.%Y\")\n",
    "\n",
    "    jpval = 0\n",
    "    \n",
    "    async with client:\n",
    "\n",
    "        async for dialog in client.iter_dialogs():\n",
    "            # print(dialog.name, 'has ID', dialog.id)\n",
    "            pass\n",
    "\n",
    "        async for message in client.iter_messages('Перемещение магазины', limit=lim):\n",
    "\n",
    "\n",
    "            cur_date = message.date\n",
    "            now_datetime = cur_date.astimezone(tz=tz_kiev)\n",
    "            data_ukr_str = datetime.strftime(now_datetime, \"%d.%m.%Y\")\n",
    "            gg = datetime.strptime(data_ukr_str, \"%d.%m.%Y\")\n",
    "\n",
    "            if gg >= today_date:\n",
    "                current_time = datetime.strftime(now_datetime, \"%H:%M:%S\")\n",
    "                # print('*' * 20)\n",
    "                msg = message.text\n",
    "                try:\n",
    "                    msg_list = msg.split('\\n')\n",
    "                    s = handler_string(msg_list[0])\n",
    "\n",
    "                    last_name = message.sender.last_name\n",
    "                    first_name = message.sender.first_name\n",
    "                    name_ = ' '.join([first_name, last_name])\n",
    "                    \n",
    "                    additional_cells(jpval, data_ukr_str, current_time, name_, msg, s)\n",
    "                    next(prog_bar)\n",
    "                    jpval += 1\n",
    "\n",
    "                except Exception as ex:\n",
    "                    # print(ex, msg_list)\n",
    "                    pass\n",
    "\n",
    "            else:\n",
    "                break\n",
    "\n",
    "        print(f'Ok, End of data, limit:{lim}')\n",
    "        print(f'Ok, End of data, limit:{lim}')\n",
    "        print(f'Ok, End of data, limit:{lim}')\n",
    "        \n",
    "    return sheet\n",
    "\n",
    "sheet = await get_messages(wdate.value, wlimit.value)  # start for Jupyter notebook\n",
    "\n",
    "# Start without jupyter\n",
    "# loop = asyncio.get_event_loop()\n",
    "# loop.run_until_complete(get_messages(1))\n"
   ]
  },
  {
   "cell_type": "markdown",
   "id": "6de67800",
   "metadata": {},
   "source": [
    "### Скачать данные в CSV file"
   ]
  },
  {
   "cell_type": "code",
   "execution_count": 5,
   "id": "172e6d6e",
   "metadata": {},
   "outputs": [
    {
     "data": {
      "text/html": [
       "<a download=\"data.csv\" href=\"data:text/csv;base64,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\" target=\"_blank\">Скачать данные в CSV file</a>"
      ],
      "text/plain": [
       "<IPython.core.display.HTML object>"
      ]
     },
     "execution_count": 5,
     "metadata": {},
     "output_type": "execute_result"
    }
   ],
   "source": [
    "import io\n",
    "import openpyxl\n",
    "from pandas import ExcelFile\n",
    "\n",
    "import base64\n",
    "from IPython.display import HTML\n",
    "from IPython.display import FileLink\n",
    "\n",
    "import warnings\n",
    "warnings.filterwarnings('ignore')\n",
    "\n",
    "def create_download_link(df, title = \"Скачать данные в CSV file\", filename = \"data.csv\"):  \n",
    "    csv = df.to_csv(sep=';', encoding='utf-8-sig', index=False)\n",
    "    b64 = base64.b64encode(csv.encode('utf-8-sig'))\n",
    "    payload = b64.decode()\n",
    "    html = '<a download=\"{filename}\" href=\"data:text/csv;base64,{payload}\" target=\"_blank\">{title}</a>'\n",
    "    html = html.format(payload=payload,title=title,filename=filename)\n",
    "    return HTML(html)\n",
    "\n",
    "new_df = ipysheet.to_dataframe(sheet)\n",
    "new_df.pop('index')\n",
    "\n",
    "create_download_link(new_df)"
   ]
  },
  {
   "cell_type": "code",
   "execution_count": null,
   "id": "9ee71d6a",
   "metadata": {},
   "outputs": [],
   "source": []
  }
 ],
 "metadata": {
  "kernelspec": {
   "display_name": "Python 3",
   "language": "python",
   "name": "python3"
  },
  "language_info": {
   "codemirror_mode": {
    "name": "ipython",
    "version": 3
   },
   "file_extension": ".py",
   "mimetype": "text/x-python",
   "name": "python",
   "nbconvert_exporter": "python",
   "pygments_lexer": "ipython3",
   "version": "3.8.5"
  }
 },
 "nbformat": 4,
 "nbformat_minor": 5
}
