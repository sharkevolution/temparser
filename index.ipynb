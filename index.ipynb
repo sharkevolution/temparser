{
 "cells": [
  {
   "cell_type": "markdown",
   "id": "dbef7f05",
   "metadata": {},
   "source": [
    "# Загрузка данных из группы Telegram"
   ]
  },
  {
   "cell_type": "markdown",
   "id": "317da987",
   "metadata": {},
   "source": [
    "Cмотрите шаг за шагом ниже, для получения **api_id и api_hash**\n",
    "\n",
    "1. Подпишитесь на Telegram с помощью любого приложения.\n",
    "2. Войдите в свой Telegram core:  *https://my.telegram.org*\n",
    "3. Перейдите в раздел \"инструменты разработки API\" и заполните форму.\n",
    "4. Вы получите основные адреса, а также параметры api_id и api_hash, необходимые для авторизации пользователя.\n",
    "\n",
    "На данный момент к каждому номеру может быть подключен только один api_id."
   ]
  },
  {
   "cell_type": "markdown",
   "id": "b3df46de",
   "metadata": {},
   "source": [
    "### Количество строк выгрузки"
   ]
  },
  {
   "cell_type": "code",
   "execution_count": 18,
   "id": "1a5d61ce",
   "metadata": {
    "scrolled": true
   },
   "outputs": [
    {
     "data": {
      "application/vnd.jupyter.widget-view+json": {
       "model_id": "eda574d44de546c5a84a7634aa9b22f1",
       "version_major": 2,
       "version_minor": 0
      },
      "text/plain": [
       "IntSlider(value=10, max=1500, min=10)"
      ]
     },
     "metadata": {},
     "output_type": "display_data"
    },
    {
     "data": {
      "application/vnd.jupyter.widget-view+json": {
       "model_id": "57f612c5cd5b4bb0a4e35710ff8010f4",
       "version_major": 2,
       "version_minor": 0
      },
      "text/plain": [
       "Text(value='Установите кол-во строк выгрузки', disabled=True)"
      ]
     },
     "metadata": {},
     "output_type": "display_data"
    }
   ],
   "source": [
    "import ipywidgets as widgets\n",
    "from IPython.display import display\n",
    "\n",
    "wlimit = widgets.IntSlider(min=10, max=1500, step=1, value=10)\n",
    "display(wlimit)\n",
    "widgets.Text(value='Установите кол-во строк выгрузки', disabled=True)"
   ]
  },
  {
   "cell_type": "markdown",
   "id": "ccd6f545",
   "metadata": {},
   "source": [
    "### Количество дней выгрузки"
   ]
  },
  {
   "cell_type": "code",
   "execution_count": 20,
   "id": "1b17a440",
   "metadata": {},
   "outputs": [
    {
     "data": {
      "application/vnd.jupyter.widget-view+json": {
       "model_id": "6d90f832ba8e40269f93cf8935ee8e9f",
       "version_major": 2,
       "version_minor": 0
      },
      "text/plain": [
       "IntSlider(value=1, max=30, min=1)"
      ]
     },
     "metadata": {},
     "output_type": "display_data"
    },
    {
     "data": {
      "application/vnd.jupyter.widget-view+json": {
       "model_id": "9f2d9881478e4b0aa350e066852e00ae",
       "version_major": 2,
       "version_minor": 0
      },
      "text/plain": [
       "Text(value='Установите кол-во дней выгрузки', disabled=True)"
      ]
     },
     "metadata": {},
     "output_type": "display_data"
    }
   ],
   "source": [
    "import ipywidgets as widgets\n",
    "from IPython.display import display\n",
    "\n",
    "wdate = widgets.IntSlider(min=1, max=30, step=1, value=1)\n",
    "display(wdate)\n",
    "widgets.Text(value='Установите кол-во дней выгрузки', disabled=True)"
   ]
  },
  {
   "cell_type": "markdown",
   "id": "becb9656",
   "metadata": {},
   "source": [
    "### Скрипт для выгрузки данных из группы\n",
    ">\n",
    "> Пройдите авторизацию, или двухфакторную авторизацию, если она установленна вами.."
   ]
  },
  {
   "cell_type": "code",
   "execution_count": 31,
   "id": "c6096c5c",
   "metadata": {},
   "outputs": [
    {
     "name": "stdout",
     "output_type": "stream",
     "text": [
      "Скопируйте api_id: 1859552\n",
      "Скопируйте api_hash: 22d9476bbbcca5a726b214d085206b67\n"
     ]
    },
    {
     "name": "stderr",
     "output_type": "stream",
     "text": [
      " 58%|██████████████████████████████████████████████▋                                  | 76/132 [00:01<00:01, 40.45it/s]"
     ]
    },
    {
     "name": "stdout",
     "output_type": "stream",
     "text": [
      "End of data, limit:132\n",
      "End of data, limit:132\n",
      "End of data, limit:132\n"
     ]
    },
    {
     "name": "stderr",
     "output_type": "stream",
     "text": [
      "\n"
     ]
    }
   ],
   "source": [
    "import os\n",
    "import asyncio\n",
    "from telethon import TelegramClient\n",
    "\n",
    "from pytz import timezone\n",
    "from datetime import datetime, timedelta\n",
    "\n",
    "from tqdm import tqdm\n",
    "import ipysheet\n",
    "\n",
    "api_id = input('Скопируйте api_id: ')\n",
    "api_hash = input('Скопируйте api_hash: ')\n",
    "\n",
    "client = TelegramClient('session_name', api_id, api_hash)\n",
    "\n",
    "\n",
    "ct = {\n",
    "    1: 'Магазин Киото',\n",
    "    2: 'Магазин Крещатик',\n",
    "    3: 'Магазин Алладин',\n",
    "    4: 'Магазин Марк Молл',\n",
    "    5: 'Магазин Житомирская',\n",
    "    6: 'Точка Гостомель',\n",
    "    7: 'Точка ХарьОК',\n",
    "    8: 'Точка Оазис',\n",
    "    9: 'Магазин КПИ',\n",
    "    10: 'Точка Малиновского',\n",
    "    11: 'Точка Вишневое',\n",
    "    12: 'Склад Бровары',\n",
    "    13: 'Магазин Петровка',\n",
    "    14: 'Склад БР22',\n",
    "    15: 'Точка Буча',\n",
    "    16: 'Склады',\n",
    "    17: 'Точка Сталинграда',\n",
    "    18: 'Точка Григоренка',\n",
    "    19: 'Точка Хоткевича',\n",
    "    20: 'Точка Лесі Українки',\n",
    "    21: 'Точка Лятошинського',\n",
    "    22: 'Точка Межигірська',\n",
    "    23: 'Точка Орнамент',\n",
    "    24: 'Точка Повітрофлотський',\n",
    "    25: 'Точка Оболонський',\n",
    "    26: 'Точка Європарк',\n",
    "    27: 'Точка Боярка',\n",
    "    28: 'Магазин ХШ',\n",
    "    29: 'Магазин Аркадія',\n",
    "    30: 'Точка Васильківська',\n",
    "    31: 'Точка Ірпінь',\n",
    "    32: 'Магазин Драйзера',\n",
    "    33: 'Точка Бориспіль',\n",
    "    34: 'Склад Мартусовка',\n",
    "    35: 'Склад Подол',\n",
    "    36: 'Точка Магелан',\n",
    "    37: 'Точка Вишгород',\n",
    "    38: 'Точка Градинська',\n",
    "    39: 'Точка Липкiвського',\n",
    "    40: 'Точка Москаленка',\n",
    "    41: 'Точка Крюківщина',\n",
    "    42: 'Точка Златоустівська',\n",
    "    43: 'Точка Льва Толстого',\n",
    "    44: 'Точка Дружби народів',\n",
    "    45: 'Точка Кольцова',\n",
    "    46: 'Точка Комп Мейтуса',\n",
    "    47: 'Точка Победы 108',\n",
    "    48: 'Точка Соборності',\n",
    "    49: 'Точка Антоновіча',\n",
    "    50: 'Точка Наб.Русановская, 4'\n",
    "}\n",
    "\n",
    "\n",
    "substr = {'КИО': ct[1], 'Кіот': ct[1], 'К іотто': ct[1], 'Кирто': ct[1], 'К иото': ct[1], 'Кiото': ct[1],\n",
    "          'КРЕЩ': ct[2], 'ХРЕЩ': ct[2], 'Крешатик': ct[2], 'Хреш': ct[2], 'Хркщ': ct[2],\n",
    "          'Киещ': ct[2], 'Коещатик': ct[2], 'щатик': ct[2],\n",
    "          'АЛАД': ct[3], 'АЛЛАД': ct[3], 'Ададин': ct[3], 'Aладін': ct[3], 'Ададдін': ct[4], 'Ададін': ct[4],\n",
    "          'ладін': ct[3], 'Аллдін': ct[3],\n",
    "          'МАРК': ct[4], 'Mark Moll': ct[4], 'Мартмол': ct[4], 'Mark Mall': ct[4], 'Мврк Мол': ct[4],\n",
    "          'мапк молл': ct[4], 'Мар мол': ct[4], 'Морк мол': ct[4],\n",
    "          'ЖИТО': ct[5], 'ЖЫТОМ': ct[5], 'Жтомир': ct[5], 'Житююж': ct[5], 'омирская': ct[5], 'Житмирская': ct[5],\n",
    "          'Житмирська': ct[5],\n",
    "          'ГОСТ': ct[6], 'Гастомель': ct[6], 'Госномель': ct[6],\n",
    "          'ХАРЬ': ct[7], 'Харёк': ct[7], 'ХАРЕК': ct[7], 'ХОР': ct[7],\n",
    "          'ОАЗ': ct[8],\n",
    "          'КПИ': ct[9], 'Кпі': ct[9], 'Поли': ct[9], 'Кп и': ct[9], 'К п и': ct[9], 'Kпи': ct[9], 'КПI': ct[9],\n",
    "          'КІП': ct[9], 'КРІ': ct[9],\n",
    "          'МАЛІН': ct[10], 'Малин': ct[10], 'Молинов': ct[10], 'еновського': ct[10], 'Малено': ct[10],\n",
    "          'ВЕШН': ct[11], 'Вишнё': ct[11], 'Вишневое': ct[11], 'Вишн': ct[11], 'Вишр': ct[11],\n",
    "          'БРОВАРЫ': ct[12], 'БТ СКЛАД': ct[12], 'Бровари': ct[12], 'Бр склад': ct[12],\n",
    "          'ПЕТР': ct[13], 'Петровка': ct[13], 'Бандери': ct[13],\n",
    "          'Бр 22': ct[14], 'Бр22': ct[14], 'Бр Ск 22': ct[14], 'Бо 22': ct[14],\n",
    "          'предпринимат': ct[14], 'Бр.Склад': ct[14], 'Ск. Бр 2': ct[14],\n",
    "          'Буча': ct[15],\n",
    "          'VMB': ct[16],\n",
    "          'Сталінг': ct[17], 'Сталин': ct[17], 'Стале': ct[17], 'инграда': ct[17], 'Стіланграда': ct[17],\n",
    "          'Сиалінграда': ct[17], 'Сталінрада': ct[17],\n",
    "          'Григор': ct[18], 'Грегор': ct[18], 'Грігоренко': ct[18], 'Григоге': ct[18],\n",
    "          'Хоткевича': ct[19], 'Гната Хоткевича': ct[19], 'Хотке': ct[19], 'Хотуевича': ct[19],\n",
    "          'Леси': ct[20], 'Л України': ct[20], 'українки': ct[20], 'Украинки': ct[20], 'Лесі': ct[20],\n",
    "          'Лят': ct[21], 'Лятуш': ct[21], 'Лчтушинского': ct[21],\n",
    "          'Межигорская': ct[22], 'Межиг': ct[22], 'Межы': ct[22], 'Меже': ct[22], 'гірська': ct[22], 'Межг': ct[22],\n",
    "          'Орнамент': ct[23],\n",
    "          'Воздух': ct[24], 'Повітро': ct[24], 'Ваозд': ct[24], 'Повітр': ct[24], 'Повiтрофлотский': ct[24],\n",
    "          'трофлотський': ct[24], 'Повiтрофлотскiй': ct[24], 'Повiтроф': ct[24], 'Повiрофлотский': ct[24],\n",
    "          'олонский': ct[25], 'Оболон': ct[25], 'Обол': ct[25],\n",
    "          'Евро': ct[26], 'Європарк': ct[26], 'Соф': ct[26], 'Борщ': ct[26], 'Боршаговка': ct[26], 'Євро парк': ct[26],\n",
    "          'Єаропарк': ct[26],\n",
    "          'Бояр': ct[27],\n",
    "          'Хш': ct[28], 'Х /ш': ct[28], 'Х ш': ct[28], 'Х/ш': ct[28], 'Х.ш': ct[28], 'X.Ш.': ct[28], 'Х//ш': ct[28],\n",
    "          'ХЩ': ct[28],\n",
    "          'Арка': ct[29],\n",
    "          'Васил': ct[30], 'сильков': ct[30], 'Васиковская': ct[30],\n",
    "          'Ирпень': ct[31], 'Ірп': ct[31], 'Iрпi': ct[31],\n",
    "          'Драй': ct[32], 'айзера': ct[32],\n",
    "          'Борис': ct[33],\n",
    "          'Марту': ct[34],\n",
    "          'Подол': ct[35], 'Поділ': ct[35], 'Кирилів': ct[35],\n",
    "          'Магел': ct[36], 'агелан': ct[36], 'Магклан': ct[36],\n",
    "          'Вишгород': ct[37], 'Вижгород': ct[37],  'Вышго': ct[37],\n",
    "          'Градинська': ct[38], 'Граденська': ct[38],\n",
    "          'Липкiвського': ct[39], 'Лепківська': ct[39], 'Липківського': ct[39],\n",
    "          'Москал': ct[40],\n",
    "          'Крюк': ct[41],\n",
    "          'Злато': ct[42], 'Золото': ct[42],\n",
    "          'Льва Толстого': ct[43],\n",
    "          'Дружб': ct[44],\n",
    "          'Кольцова': ct[45],\n",
    "          'Мейтуса': ct[46],\n",
    "          'Перемоги': ct[47], 'Победы 108': ct[47],\n",
    "          'Соборн': ct[48],\n",
    "          'Антоно': ct[49],\n",
    "          'Набережная 4б': ct[50],\n",
    "          }\n",
    "\n",
    "\n",
    "def progress(lim):\n",
    "    \n",
    "    for i in tqdm(range(lim)):\n",
    "        yield 0\n",
    "\n",
    "\n",
    "def handler_string(text):\n",
    "    tmp = []\n",
    "    for b in substr.keys():\n",
    "        sb = b.lower()\n",
    "        string = text.lower()\n",
    "        if sb in string:\n",
    "            if not substr[b] in tmp:\n",
    "                tmp.append(substr[b])\n",
    "    return tmp\n",
    "\n",
    "\n",
    "def additional_cells(jpval, date_, time_, name_, msg_, s_):\n",
    "    \n",
    "    ipysheet.cell(jpval, 0, jpval)\n",
    "    ipysheet.cell(jpval, 1, date_)\n",
    "    ipysheet.cell(jpval, 2, time_)\n",
    "    ipysheet.cell(jpval, 3, name_)\n",
    "    ipysheet.cell(jpval, 4, msg_)\n",
    "    ipysheet.cell(jpval, 5, s_)\n",
    "        \n",
    "\n",
    "async def get_messages(days_ago=1, lim=10):\n",
    "\n",
    "    sheet = ipysheet.sheet(rows=lim, columns=6)\n",
    "    sheet.column_headers = ['index', 'Date', 'Time', 'Name', 'Point', 'S']\n",
    "\n",
    "    prog_bar = progress(lim)\n",
    "    \n",
    "    days_ago = days_ago\n",
    "    delta = timedelta(days=days_ago)\n",
    "    fmt = \"%Y-%m-%d %H:%M:%S %Z%z\"\n",
    "    tz_kiev = timezone('Europe/Kiev')\n",
    "\n",
    "    tz_ = datetime.now() - delta\n",
    "    tz_date = tz_.astimezone(tz=tz_kiev)\n",
    "    today_str_date = datetime.strftime(tz_date, \"%d.%m.%Y\")\n",
    "    today_date = datetime.strptime(today_str_date, \"%d.%m.%Y\")\n",
    "\n",
    "    jpval = 0\n",
    "    \n",
    "    async with client:\n",
    "\n",
    "        async for dialog in client.iter_dialogs():\n",
    "            # print(dialog.name, 'has ID', dialog.id)\n",
    "            pass\n",
    "\n",
    "        async for message in client.iter_messages('Перемещение магазины', limit=lim):\n",
    "\n",
    "\n",
    "            cur_date = message.date\n",
    "            now_datetime = cur_date.astimezone(tz=tz_kiev)\n",
    "            data_ukr_str = datetime.strftime(now_datetime, \"%d.%m.%Y\")\n",
    "            gg = datetime.strptime(data_ukr_str, \"%d.%m.%Y\")\n",
    "\n",
    "            if gg >= today_date:\n",
    "                current_time = datetime.strftime(now_datetime, \"%H:%M:%S\")\n",
    "                # print('*' * 20)\n",
    "                msg = message.text\n",
    "                try:\n",
    "                    msg_list = msg.split('\\n')\n",
    "                    s = handler_string(msg_list[0])\n",
    "\n",
    "                    last_name = message.sender.last_name\n",
    "                    first_name = message.sender.first_name\n",
    "                    name_ = ' '.join([first_name, last_name])\n",
    "                    \n",
    "                    additional_cells(jpval, data_ukr_str, current_time, name_, msg, s)\n",
    "                    next(prog_bar)\n",
    "                    jpval += 1\n",
    "\n",
    "                except Exception as ex:\n",
    "                    # print(ex, msg_list)\n",
    "                    pass\n",
    "\n",
    "            else:\n",
    "                break\n",
    "\n",
    "        print(f'Ok, End of data, limit:{lim}')\n",
    "        print(f'Ok, End of data, limit:{lim}')\n",
    "        print(f'Ok, End of data, limit:{lim}')\n",
    "        \n",
    "    return sheet\n",
    "\n",
    "sheet = await get_messages(wdate.value, wlimit.value)  # start for Jupyter notebook\n",
    "\n",
    "# Start without jupyter\n",
    "# loop = asyncio.get_event_loop()\n",
    "# loop.run_until_complete(get_messages(1))\n",
    "    \n"
   ]
  },
  {
   "cell_type": "markdown",
   "id": "98033ce2",
   "metadata": {},
   "source": [
    "### Обработанный список в таблице"
   ]
  },
  {
   "cell_type": "code",
   "execution_count": 32,
   "id": "0f1474ef",
   "metadata": {},
   "outputs": [
    {
     "data": {
      "application/vnd.jupyter.widget-view+json": {
       "model_id": "2762cd28ca404eecbe1bff2056a4f687",
       "version_major": 2,
       "version_minor": 0
      },
      "text/plain": [
       "Sheet(cells=(Cell(column_end=0, column_start=0, row_end=0, row_start=0, type='numeric', value=0), Cell(column_…"
      ]
     },
     "metadata": {},
     "output_type": "display_data"
    }
   ],
   "source": [
    "sheet"
   ]
  },
  {
   "cell_type": "code",
   "execution_count": null,
   "id": "bbd65a5c",
   "metadata": {},
   "outputs": [],
   "source": []
  },
  {
   "cell_type": "code",
   "execution_count": null,
   "id": "7dd27790",
   "metadata": {},
   "outputs": [],
   "source": []
  }
 ],
 "metadata": {
  "kernelspec": {
   "display_name": "Python 3",
   "language": "python",
   "name": "python3"
  },
  "language_info": {
   "codemirror_mode": {
    "name": "ipython",
    "version": 3
   },
   "file_extension": ".py",
   "mimetype": "text/x-python",
   "name": "python",
   "nbconvert_exporter": "python",
   "pygments_lexer": "ipython3",
   "version": "3.8.5"
  }
 },
 "nbformat": 4,
 "nbformat_minor": 5
}
