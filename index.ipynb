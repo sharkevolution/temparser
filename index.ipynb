{
 "cells": [
  {
   "cell_type": "markdown",
   "id": "56401ef1",
   "metadata": {},
   "source": [
    "# Загрузка данных из группы Telegram"
   ]
  },
  {
   "cell_type": "markdown",
   "id": "251677e0",
   "metadata": {},
   "source": [
    "Cмотрите шаг за шагом ниже, для получения **api_id и api_hash**\n",
    "\n",
    "1. Подпишитесь на Telegram с помощью любого приложения.\n",
    "2. Войдите в свой Telegram core:  *https://my.telegram.org*\n",
    "3. Перейдите в раздел \"инструменты разработки API\" и заполните форму.\n",
    "4. Вы получите основные адреса, а также параметры api_id и api_hash, необходимые для авторизации пользователя.\n",
    "\n",
    "На данный момент к каждому номеру может быть подключен только один api_id."
   ]
  },
  {
   "cell_type": "markdown",
   "id": "dfc5bf39",
   "metadata": {},
   "source": [
    "### Ограничение по количеству строк выгрузки"
   ]
  },
  {
   "cell_type": "code",
   "execution_count": 1,
   "id": "70e65562",
   "metadata": {
    "scrolled": true
   },
   "outputs": [
    {
     "data": {
      "application/vnd.jupyter.widget-view+json": {
       "model_id": "1999b8ba8ca04524bd8c7284f0a8a060",
       "version_major": 2,
       "version_minor": 0
      },
      "text/plain": [
       "IntSlider(value=1000, max=1500, min=1)"
      ]
     },
     "metadata": {},
     "output_type": "display_data"
    },
    {
     "data": {
      "application/vnd.jupyter.widget-view+json": {
       "model_id": "03ec4b5ace3c4e8591150b7391ff6b57",
       "version_major": 2,
       "version_minor": 0
      },
      "text/plain": [
       "Text(value='Установите кол-во строк выгрузки', disabled=True)"
      ]
     },
     "metadata": {},
     "output_type": "display_data"
    }
   ],
   "source": [
    "import ipywidgets as widgets\n",
    "from IPython.display import display\n",
    "\n",
    "wlimit = widgets.IntSlider(min=1, max=1500, step=1, value=1000)\n",
    "display(wlimit)\n",
    "widgets.Text(value='Установите кол-во строк выгрузки', disabled=True)"
   ]
  },
  {
   "cell_type": "markdown",
   "id": "baca2598",
   "metadata": {},
   "source": [
    "### Ограничени по количество дней выгрузки"
   ]
  },
  {
   "cell_type": "code",
   "execution_count": 2,
   "id": "2d52612b",
   "metadata": {},
   "outputs": [
    {
     "data": {
      "application/vnd.jupyter.widget-view+json": {
       "model_id": "b3d5b653b22e4e898f8b189cbaea5a5e",
       "version_major": 2,
       "version_minor": 0
      },
      "text/plain": [
       "IntSlider(value=1, max=30, min=1)"
      ]
     },
     "metadata": {},
     "output_type": "display_data"
    },
    {
     "data": {
      "application/vnd.jupyter.widget-view+json": {
       "model_id": "393ff9190fe94de78244cdadcbd57149",
       "version_major": 2,
       "version_minor": 0
      },
      "text/plain": [
       "Text(value='Установите кол-во дней выгрузки', disabled=True)"
      ]
     },
     "metadata": {},
     "output_type": "display_data"
    }
   ],
   "source": [
    "import ipywidgets as widgets\n",
    "from IPython.display import display\n",
    "\n",
    "wdate = widgets.IntSlider(min=1, max=30, step=1, value=1)\n",
    "display(wdate)\n",
    "widgets.Text(value='Установите кол-во дней выгрузки', disabled=True)"
   ]
  },
  {
   "cell_type": "markdown",
   "id": "4a3c4a0c",
   "metadata": {},
   "source": [
    "### Скрипт для выгрузки данных из группы\n",
    ">\n",
    "> Пройдите авторизацию, или двухфакторную авторизацию, если она установленна вами.."
   ]
  },
  {
   "cell_type": "code",
   "execution_count": 3,
   "id": "fdb274f2",
   "metadata": {
    "scrolled": true
   },
   "outputs": [
    {
     "name": "stdout",
     "output_type": "stream",
     "text": [
      "Скопируйте api_id: 1859552\n",
      "Скопируйте api_hash: 22d9476bbbcca5a726b214d085206b67\n"
     ]
    },
    {
     "name": "stderr",
     "output_type": "stream",
     "text": [
      " 23%|█████████████████▋                                                          | 233/1000 [00:11<00:37, 20.50it/s]"
     ]
    },
    {
     "name": "stdout",
     "output_type": "stream",
     "text": [
      "Ok, End of data, limit:1000\n",
      "Ok, End of data, limit:1000\n",
      "Ok, End of data, limit:1000\n"
     ]
    },
    {
     "name": "stderr",
     "output_type": "stream",
     "text": [
      "\n"
     ]
    }
   ],
   "source": [
    "import os\n",
    "import asyncio\n",
    "from telethon import TelegramClient\n",
    "\n",
    "from pytz import timezone\n",
    "from datetime import datetime, timedelta\n",
    "\n",
    "from tqdm import tqdm\n",
    "import ipywidgets as widgets\n",
    "import ipysheet\n",
    "\n",
    "api_id = input('Скопируйте api_id: ')\n",
    "api_hash = input('Скопируйте api_hash: ')\n",
    "\n",
    "client = TelegramClient('session_name', api_id, api_hash)\n",
    "\n",
    "\n",
    "ct = {\n",
    "    1: 'Магазин Киото',\n",
    "    2: 'Магазин Крещатик',\n",
    "    3: 'Магазин Алладин',\n",
    "    4: 'Магазин Марк Молл',\n",
    "    5: 'Магазин Житомирская',\n",
    "    6: 'Точка Гостомель',\n",
    "    7: 'Точка ХарьОК',\n",
    "    8: 'Точка Оазис',\n",
    "    9: 'Магазин КПИ',\n",
    "    10: 'Точка Малиновского',\n",
    "    11: 'Точка Вишневое',\n",
    "    12: 'Склад Бровары',\n",
    "    13: 'Магазин Петровка',\n",
    "    14: 'Склад БР22',\n",
    "    15: 'Точка Буча',\n",
    "    16: 'Склады',\n",
    "    17: 'Точка Сталинграда',\n",
    "    18: 'Точка Григоренка',\n",
    "    19: 'Точка Хоткевича',\n",
    "    20: 'Точка Лесі Українки',\n",
    "    21: 'Точка Лятошинського',\n",
    "    22: 'Точка Межигірська',\n",
    "    23: 'Точка Орнамент',\n",
    "    24: 'Точка Повітрофлотський',\n",
    "    25: 'Точка Оболонський',\n",
    "    26: 'Точка Європарк',\n",
    "    27: 'Точка Боярка',\n",
    "    28: 'Магазин ХШ',\n",
    "    29: 'Магазин Аркадія',\n",
    "    30: 'Точка Васильківська',\n",
    "    31: 'Точка Ірпінь',\n",
    "    32: 'Магазин Драйзера',\n",
    "    33: 'Точка Бориспіль',\n",
    "    34: 'Склад Мартусовка',\n",
    "    35: 'Склад Подол',\n",
    "    36: 'Точка Магелан',\n",
    "    37: 'Точка Вишгород',\n",
    "    38: 'Точка Градинська',\n",
    "    39: 'Точка Липкiвського',\n",
    "    40: 'Точка Москаленка',\n",
    "    41: 'Точка Крюківщина',\n",
    "    42: 'Точка Златоустівська',\n",
    "    43: 'Точка Льва Толстого',\n",
    "    44: 'Точка Дружби народів',\n",
    "    45: 'Точка Кольцова',\n",
    "    46: 'Точка Комп Мейтуса',\n",
    "    47: 'Точка Победы 108',\n",
    "    48: 'Точка Соборності',\n",
    "    49: 'Точка Антоновіча',\n",
    "    50: 'Точка Наб.Русановская, 4'\n",
    "}\n",
    "\n",
    "\n",
    "substr = {'КИО': ct[1], 'Кіот': ct[1], 'К іотто': ct[1], 'Кирто': ct[1], 'К иото': ct[1], 'Кiото': ct[1],\n",
    "          'КРЕЩ': ct[2], 'ХРЕЩ': ct[2], 'Крешатик': ct[2], 'Хреш': ct[2], 'Хркщ': ct[2],\n",
    "          'Киещ': ct[2], 'Коещатик': ct[2], 'щатик': ct[2],\n",
    "          'АЛАД': ct[3], 'АЛЛАД': ct[3], 'Ададин': ct[3], 'Aладін': ct[3], 'Ададдін': ct[4], 'Ададін': ct[4],\n",
    "          'ладін': ct[3], 'Аллдін': ct[3],\n",
    "          'МАРК': ct[4], 'Mark Moll': ct[4], 'Мартмол': ct[4], 'Mark Mall': ct[4], 'Мврк Мол': ct[4],\n",
    "          'мапк молл': ct[4], 'Мар мол': ct[4], 'Морк мол': ct[4],\n",
    "          'ЖИТО': ct[5], 'ЖЫТОМ': ct[5], 'Жтомир': ct[5], 'Житююж': ct[5], 'омирская': ct[5], 'Житмирская': ct[5],\n",
    "          'Житмирська': ct[5],\n",
    "          'ГОСТ': ct[6], 'Гастомель': ct[6], 'Госномель': ct[6],\n",
    "          'ХАРЬ': ct[7], 'Харёк': ct[7], 'ХАРЕК': ct[7], 'ХОР': ct[7],\n",
    "          'ОАЗ': ct[8],\n",
    "          'КПИ': ct[9], 'Кпі': ct[9], 'Поли': ct[9], 'Кп и': ct[9], 'К п и': ct[9], 'Kпи': ct[9], 'КПI': ct[9],\n",
    "          'КІП': ct[9], 'КРІ': ct[9],\n",
    "          'МАЛІН': ct[10], 'Малин': ct[10], 'Молинов': ct[10], 'еновського': ct[10], 'Малено': ct[10],\n",
    "          'ВЕШН': ct[11], 'Вишнё': ct[11], 'Вишневое': ct[11], 'Вишн': ct[11], 'Вишр': ct[11],\n",
    "          'БРОВАРЫ': ct[12], 'БТ СКЛАД': ct[12], 'Бровари': ct[12], 'Бр склад': ct[12],\n",
    "          'ПЕТР': ct[13], 'Петровка': ct[13], 'Бандери': ct[13],\n",
    "          'Бр 22': ct[14], 'Бр22': ct[14], 'Бр Ск 22': ct[14], 'Бо 22': ct[14],\n",
    "          'предпринимат': ct[14], 'Бр.Склад': ct[14], 'Ск. Бр 2': ct[14],\n",
    "          'Буча': ct[15],\n",
    "          'VMB': ct[16],\n",
    "          'Сталінг': ct[17], 'Сталин': ct[17], 'Стале': ct[17], 'инграда': ct[17], 'Стіланграда': ct[17],\n",
    "          'Сиалінграда': ct[17], 'Сталінрада': ct[17],\n",
    "          'Григор': ct[18], 'Грегор': ct[18], 'Грігоренко': ct[18], 'Григоге': ct[18],\n",
    "          'Хоткевича': ct[19], 'Гната Хоткевича': ct[19], 'Хотке': ct[19], 'Хотуевича': ct[19],\n",
    "          'Леси': ct[20], 'Л України': ct[20], 'українки': ct[20], 'Украинки': ct[20], 'Лесі': ct[20],\n",
    "          'Лят': ct[21], 'Лятуш': ct[21], 'Лчтушинского': ct[21],\n",
    "          'Межигорская': ct[22], 'Межиг': ct[22], 'Межы': ct[22], 'Меже': ct[22], 'гірська': ct[22], 'Межг': ct[22],\n",
    "          'Орнамент': ct[23],\n",
    "          'Воздух': ct[24], 'Повітро': ct[24], 'Ваозд': ct[24], 'Повітр': ct[24], 'Повiтрофлотский': ct[24],\n",
    "          'трофлотський': ct[24], 'Повiтрофлотскiй': ct[24], 'Повiтроф': ct[24], 'Повiрофлотский': ct[24],\n",
    "          'олонский': ct[25], 'Оболон': ct[25], 'Обол': ct[25],\n",
    "          'Евро': ct[26], 'Європарк': ct[26], 'Соф': ct[26], 'Борщ': ct[26], 'Боршаговка': ct[26], 'Євро парк': ct[26],\n",
    "          'Єаропарк': ct[26],\n",
    "          'Бояр': ct[27],\n",
    "          'Хш': ct[28], 'Х /ш': ct[28], 'Х ш': ct[28], 'Х/ш': ct[28], 'Х.ш': ct[28], 'X.Ш.': ct[28], 'Х//ш': ct[28],\n",
    "          'ХЩ': ct[28],\n",
    "          'Арка': ct[29],\n",
    "          'Васил': ct[30], 'сильков': ct[30], 'Васиковская': ct[30],\n",
    "          'Ирпень': ct[31], 'Ірп': ct[31], 'Iрпi': ct[31],\n",
    "          'Драй': ct[32], 'айзера': ct[32],\n",
    "          'Борис': ct[33],\n",
    "          'Марту': ct[34],\n",
    "          'Подол': ct[35], 'Поділ': ct[35], 'Кирилів': ct[35],\n",
    "          'Магел': ct[36], 'агелан': ct[36], 'Магклан': ct[36],\n",
    "          'Вишгород': ct[37], 'Вижгород': ct[37],  'Вышго': ct[37],\n",
    "          'Градинська': ct[38], 'Граденська': ct[38],\n",
    "          'Липкiвського': ct[39], 'Лепківська': ct[39], 'Липківського': ct[39],\n",
    "          'Москал': ct[40],\n",
    "          'Крюк': ct[41],\n",
    "          'Злато': ct[42], 'Золото': ct[42],\n",
    "          'Льва Толстого': ct[43],\n",
    "          'Дружб': ct[44],\n",
    "          'Кольцова': ct[45],\n",
    "          'Мейтуса': ct[46],\n",
    "          'Перемоги': ct[47], 'Победы 108': ct[47],\n",
    "          'Соборн': ct[48],\n",
    "          'Антоно': ct[49],\n",
    "          'Набережная 4б': ct[50],\n",
    "          }\n",
    "\n",
    "\n",
    "def progress(lim):\n",
    "    \n",
    "    for i in tqdm(range(lim)):\n",
    "        yield 0\n",
    "\n",
    "\n",
    "def handler_string(text):\n",
    "    tmp = []\n",
    "    for b in substr.keys():\n",
    "        sb = b.lower()\n",
    "        string = text.lower()\n",
    "        if sb in string:\n",
    "            if not substr[b] in tmp:\n",
    "                tmp.append(substr[b])\n",
    "    return tmp\n",
    "\n",
    "\n",
    "def additional_cells(jpval, date_, time_, name_, msg_, s_):\n",
    "    \n",
    "    ipysheet.cell(jpval, 0, jpval)\n",
    "    ipysheet.cell(jpval, 1, date_)\n",
    "    ipysheet.cell(jpval, 2, time_)\n",
    "    ipysheet.cell(jpval, 3, name_)\n",
    "    ipysheet.cell(jpval, 4, msg_)\n",
    "    ipysheet.cell(jpval, 5, s_)\n",
    "        \n",
    "\n",
    "async def get_messages(days_ago=1, lim=10):\n",
    "\n",
    "    sheet = ipysheet.sheet(rows=lim, columns=6)\n",
    "    sheet.column_headers = ['index', 'Date', 'Time', 'Name', 'Point', 'S']\n",
    "\n",
    "    prog_bar = progress(lim)\n",
    "    \n",
    "    days_ago = days_ago\n",
    "    delta = timedelta(days=days_ago)\n",
    "    fmt = \"%Y-%m-%d %H:%M:%S %Z%z\"\n",
    "    tz_kiev = timezone('Europe/Kiev')\n",
    "\n",
    "    tz_ = datetime.now() - delta\n",
    "    tz_date = tz_.astimezone(tz=tz_kiev)\n",
    "    today_str_date = datetime.strftime(tz_date, \"%d.%m.%Y\")\n",
    "    today_date = datetime.strptime(today_str_date, \"%d.%m.%Y\")\n",
    "\n",
    "    jpval = 0\n",
    "    \n",
    "    async with client:\n",
    "\n",
    "        async for dialog in client.iter_dialogs():\n",
    "            # print(dialog.name, 'has ID', dialog.id)\n",
    "            pass\n",
    "\n",
    "        async for message in client.iter_messages('Перемещение магазины', limit=lim):\n",
    "\n",
    "\n",
    "            cur_date = message.date\n",
    "            now_datetime = cur_date.astimezone(tz=tz_kiev)\n",
    "            data_ukr_str = datetime.strftime(now_datetime, \"%d.%m.%Y\")\n",
    "            gg = datetime.strptime(data_ukr_str, \"%d.%m.%Y\")\n",
    "\n",
    "            if gg >= today_date:\n",
    "                current_time = datetime.strftime(now_datetime, \"%H:%M:%S\")\n",
    "                # print('*' * 20)\n",
    "                msg = message.text\n",
    "                try:\n",
    "                    msg_list = msg.split('\\n')\n",
    "                    s = handler_string(msg_list[0])\n",
    "\n",
    "                    last_name = message.sender.last_name\n",
    "                    first_name = message.sender.first_name\n",
    "                    name_ = ' '.join([first_name, last_name])\n",
    "                    \n",
    "                    additional_cells(jpval, data_ukr_str, current_time, name_, msg, s)\n",
    "                    next(prog_bar)\n",
    "                    jpval += 1\n",
    "\n",
    "                except Exception as ex:\n",
    "                    # print(ex, msg_list)\n",
    "                    pass\n",
    "\n",
    "            else:\n",
    "                break\n",
    "\n",
    "        print(f'Ok, End of data, limit:{lim}')\n",
    "        print(f'Ok, End of data, limit:{lim}')\n",
    "        print(f'Ok, End of data, limit:{lim}')\n",
    "        \n",
    "    return sheet\n",
    "\n",
    "sheet = await get_messages(wdate.value, wlimit.value)  # start for Jupyter notebook\n",
    "\n",
    "# Start without jupyter\n",
    "# loop = asyncio.get_event_loop()\n",
    "# loop.run_until_complete(get_messages(1))\n"
   ]
  },
  {
   "cell_type": "markdown",
   "id": "381705de",
   "metadata": {},
   "source": [
    "### Скачать данные в CSV file"
   ]
  },
  {
   "cell_type": "code",
   "execution_count": 4,
   "id": "c0a206ad",
   "metadata": {},
   "outputs": [
    {
     "data": {
      "text/html": [
       "<a download=\"data.csv\" href=\"data:text/csv;base64,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\" target=\"_blank\">Скачать данные в CSV file</a>"
      ],
      "text/plain": [
       "<IPython.core.display.HTML object>"
      ]
     },
     "execution_count": 4,
     "metadata": {},
     "output_type": "execute_result"
    }
   ],
   "source": [
    "import io\n",
    "import openpyxl\n",
    "from pandas import ExcelFile\n",
    "\n",
    "import base64\n",
    "from IPython.display import HTML\n",
    "from IPython.display import FileLink\n",
    "\n",
    "import warnings\n",
    "warnings.filterwarnings('ignore')\n",
    "\n",
    "def create_download_link(df, title = \"Скачать данные в CSV file\", filename = \"data.csv\"):  \n",
    "    csv = df.to_csv(sep=';', encoding='utf-8-sig', index=False)\n",
    "    b64 = base64.b64encode(csv.encode('utf-8-sig'))\n",
    "    payload = b64.decode()\n",
    "    html = '<a download=\"{filename}\" href=\"data:text/csv;base64,{payload}\" target=\"_blank\">{title}</a>'\n",
    "    html = html.format(payload=payload,title=title,filename=filename)\n",
    "    return HTML(html)\n",
    "\n",
    "new_df = ipysheet.to_dataframe(sheet)\n",
    "new_df.pop('index')\n",
    "\n",
    "create_download_link(new_df)"
   ]
  },
  {
   "cell_type": "code",
   "execution_count": null,
   "id": "913e0f2a",
   "metadata": {},
   "outputs": [],
   "source": []
  }
 ],
 "metadata": {
  "kernelspec": {
   "display_name": "Python 3",
   "language": "python",
   "name": "python3"
  },
  "language_info": {
   "codemirror_mode": {
    "name": "ipython",
    "version": 3
   },
   "file_extension": ".py",
   "mimetype": "text/x-python",
   "name": "python",
   "nbconvert_exporter": "python",
   "pygments_lexer": "ipython3",
   "version": "3.8.5"
  }
 },
 "nbformat": 4,
 "nbformat_minor": 5
}
